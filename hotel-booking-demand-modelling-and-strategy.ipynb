{
 "cells": [
  {
   "cell_type": "code",
   "execution_count": 1,
   "id": "07b3514a",
   "metadata": {
    "_cell_guid": "b1076dfc-b9ad-4769-8c92-a6c4dae69d19",
    "_uuid": "8f2839f25d086af736a60e9eeb907d3b93b6e0e5",
    "execution": {
     "iopub.execute_input": "2022-03-25T13:45:16.880188Z",
     "iopub.status.busy": "2022-03-25T13:45:16.879015Z",
     "iopub.status.idle": "2022-03-25T13:45:16.896731Z",
     "shell.execute_reply": "2022-03-25T13:45:16.897286Z",
     "shell.execute_reply.started": "2022-03-25T12:25:57.982556Z"
    },
    "papermill": {
     "duration": 0.101839,
     "end_time": "2022-03-25T13:45:16.897631",
     "exception": false,
     "start_time": "2022-03-25T13:45:16.795792",
     "status": "completed"
    },
    "tags": []
   },
   "outputs": [
    {
     "name": "stdout",
     "output_type": "stream",
     "text": [
      "/kaggle/input/hotel-booking-demand/hotel_bookings.csv\n"
     ]
    }
   ],
   "source": [
    "# This Python 3 environment comes with many helpful analytics libraries installed\n",
    "# It is defined by the kaggle/python Docker image: https://github.com/kaggle/docker-python\n",
    "# For example, here's several helpful packages to load\n",
    "\n",
    "import numpy as np # linear algebra\n",
    "import pandas as pd # data processing, CSV file I/O (e.g. pd.read_csv)\n",
    "\n",
    "# Input data files are available in the read-only \"../input/\" directory\n",
    "# For example, running this (by clicking run or pressing Shift+Enter) will list all files under the input directory\n",
    "\n",
    "import os\n",
    "for dirname, _, filenames in os.walk('/kaggle/input'):\n",
    "    for filename in filenames:\n",
    "        print(os.path.join(dirname, filename))\n",
    "\n",
    "# You can write up to 20GB to the current directory (/kaggle/working/) that gets preserved as output when you create a version using \"Save & Run All\" \n",
    "# You can also write temporary files to /kaggle/temp/, but they won't be saved outside of the current session"
   ]
  },
  {
   "cell_type": "code",
   "execution_count": 2,
   "id": "d44c21f7",
   "metadata": {
    "execution": {
     "iopub.execute_input": "2022-03-25T13:45:17.057617Z",
     "iopub.status.busy": "2022-03-25T13:45:17.056581Z",
     "iopub.status.idle": "2022-03-25T13:45:18.157418Z",
     "shell.execute_reply": "2022-03-25T13:45:18.156728Z",
     "shell.execute_reply.started": "2022-03-25T12:25:58.091243Z"
    },
    "papermill": {
     "duration": 1.182867,
     "end_time": "2022-03-25T13:45:18.157591",
     "exception": false,
     "start_time": "2022-03-25T13:45:16.974724",
     "status": "completed"
    },
    "tags": []
   },
   "outputs": [],
   "source": [
    "import numpy as np\n",
    "import pandas as pd\n",
    "import matplotlib.pyplot as plt\n",
    "import seaborn as sns"
   ]
  },
  {
   "cell_type": "markdown",
   "id": "3f2fe950",
   "metadata": {
    "papermill": {
     "duration": 0.075224,
     "end_time": "2022-03-25T13:45:18.310015",
     "exception": false,
     "start_time": "2022-03-25T13:45:18.234791",
     "status": "completed"
    },
    "tags": []
   },
   "source": [
    "## Importing Dataset"
   ]
  },
  {
   "cell_type": "code",
   "execution_count": 3,
   "id": "ab4a77ae",
   "metadata": {
    "execution": {
     "iopub.execute_input": "2022-03-25T13:45:18.466534Z",
     "iopub.status.busy": "2022-03-25T13:45:18.465867Z",
     "iopub.status.idle": "2022-03-25T13:45:19.092963Z",
     "shell.execute_reply": "2022-03-25T13:45:19.092368Z",
     "shell.execute_reply.started": "2022-03-25T12:25:58.183733Z"
    },
    "papermill": {
     "duration": 0.708444,
     "end_time": "2022-03-25T13:45:19.093120",
     "exception": false,
     "start_time": "2022-03-25T13:45:18.384676",
     "status": "completed"
    },
    "tags": []
   },
   "outputs": [],
   "source": [
    "df = pd.read_csv('/kaggle/input/hotel-booking-demand/hotel_bookings.csv')"
   ]
  },
  {
   "cell_type": "code",
   "execution_count": 4,
   "id": "ae92553f",
   "metadata": {
    "execution": {
     "iopub.execute_input": "2022-03-25T13:45:19.250819Z",
     "iopub.status.busy": "2022-03-25T13:45:19.249933Z",
     "iopub.status.idle": "2022-03-25T13:45:19.254188Z",
     "shell.execute_reply": "2022-03-25T13:45:19.253569Z",
     "shell.execute_reply.started": "2022-03-25T12:25:58.697594Z"
    },
    "papermill": {
     "duration": 0.086809,
     "end_time": "2022-03-25T13:45:19.254321",
     "exception": false,
     "start_time": "2022-03-25T13:45:19.167512",
     "status": "completed"
    },
    "tags": []
   },
   "outputs": [
    {
     "data": {
      "text/plain": [
       "(119390, 32)"
      ]
     },
     "execution_count": 4,
     "metadata": {},
     "output_type": "execute_result"
    }
   ],
   "source": [
    "df.shape"
   ]
  },
  {
   "cell_type": "code",
   "execution_count": 5,
   "id": "258afaf2",
   "metadata": {
    "execution": {
     "iopub.execute_input": "2022-03-25T13:45:19.417591Z",
     "iopub.status.busy": "2022-03-25T13:45:19.416864Z",
     "iopub.status.idle": "2022-03-25T13:45:19.442406Z",
     "shell.execute_reply": "2022-03-25T13:45:19.441821Z",
     "shell.execute_reply.started": "2022-03-25T12:25:58.710666Z"
    },
    "papermill": {
     "duration": 0.113849,
     "end_time": "2022-03-25T13:45:19.442561",
     "exception": false,
     "start_time": "2022-03-25T13:45:19.328712",
     "status": "completed"
    },
    "tags": []
   },
   "outputs": [
    {
     "data": {
      "text/html": [
       "<div>\n",
       "<style scoped>\n",
       "    .dataframe tbody tr th:only-of-type {\n",
       "        vertical-align: middle;\n",
       "    }\n",
       "\n",
       "    .dataframe tbody tr th {\n",
       "        vertical-align: top;\n",
       "    }\n",
       "\n",
       "    .dataframe thead th {\n",
       "        text-align: right;\n",
       "    }\n",
       "</style>\n",
       "<table border=\"1\" class=\"dataframe\">\n",
       "  <thead>\n",
       "    <tr style=\"text-align: right;\">\n",
       "      <th></th>\n",
       "      <th>hotel</th>\n",
       "      <th>is_canceled</th>\n",
       "      <th>lead_time</th>\n",
       "      <th>arrival_date_year</th>\n",
       "      <th>arrival_date_month</th>\n",
       "      <th>arrival_date_week_number</th>\n",
       "      <th>arrival_date_day_of_month</th>\n",
       "      <th>stays_in_weekend_nights</th>\n",
       "      <th>stays_in_week_nights</th>\n",
       "      <th>adults</th>\n",
       "      <th>...</th>\n",
       "      <th>deposit_type</th>\n",
       "      <th>agent</th>\n",
       "      <th>company</th>\n",
       "      <th>days_in_waiting_list</th>\n",
       "      <th>customer_type</th>\n",
       "      <th>adr</th>\n",
       "      <th>required_car_parking_spaces</th>\n",
       "      <th>total_of_special_requests</th>\n",
       "      <th>reservation_status</th>\n",
       "      <th>reservation_status_date</th>\n",
       "    </tr>\n",
       "  </thead>\n",
       "  <tbody>\n",
       "    <tr>\n",
       "      <th>0</th>\n",
       "      <td>Resort Hotel</td>\n",
       "      <td>0</td>\n",
       "      <td>342</td>\n",
       "      <td>2015</td>\n",
       "      <td>July</td>\n",
       "      <td>27</td>\n",
       "      <td>1</td>\n",
       "      <td>0</td>\n",
       "      <td>0</td>\n",
       "      <td>2</td>\n",
       "      <td>...</td>\n",
       "      <td>No Deposit</td>\n",
       "      <td>NaN</td>\n",
       "      <td>NaN</td>\n",
       "      <td>0</td>\n",
       "      <td>Transient</td>\n",
       "      <td>0.0</td>\n",
       "      <td>0</td>\n",
       "      <td>0</td>\n",
       "      <td>Check-Out</td>\n",
       "      <td>2015-07-01</td>\n",
       "    </tr>\n",
       "    <tr>\n",
       "      <th>1</th>\n",
       "      <td>Resort Hotel</td>\n",
       "      <td>0</td>\n",
       "      <td>737</td>\n",
       "      <td>2015</td>\n",
       "      <td>July</td>\n",
       "      <td>27</td>\n",
       "      <td>1</td>\n",
       "      <td>0</td>\n",
       "      <td>0</td>\n",
       "      <td>2</td>\n",
       "      <td>...</td>\n",
       "      <td>No Deposit</td>\n",
       "      <td>NaN</td>\n",
       "      <td>NaN</td>\n",
       "      <td>0</td>\n",
       "      <td>Transient</td>\n",
       "      <td>0.0</td>\n",
       "      <td>0</td>\n",
       "      <td>0</td>\n",
       "      <td>Check-Out</td>\n",
       "      <td>2015-07-01</td>\n",
       "    </tr>\n",
       "    <tr>\n",
       "      <th>2</th>\n",
       "      <td>Resort Hotel</td>\n",
       "      <td>0</td>\n",
       "      <td>7</td>\n",
       "      <td>2015</td>\n",
       "      <td>July</td>\n",
       "      <td>27</td>\n",
       "      <td>1</td>\n",
       "      <td>0</td>\n",
       "      <td>1</td>\n",
       "      <td>1</td>\n",
       "      <td>...</td>\n",
       "      <td>No Deposit</td>\n",
       "      <td>NaN</td>\n",
       "      <td>NaN</td>\n",
       "      <td>0</td>\n",
       "      <td>Transient</td>\n",
       "      <td>75.0</td>\n",
       "      <td>0</td>\n",
       "      <td>0</td>\n",
       "      <td>Check-Out</td>\n",
       "      <td>2015-07-02</td>\n",
       "    </tr>\n",
       "    <tr>\n",
       "      <th>3</th>\n",
       "      <td>Resort Hotel</td>\n",
       "      <td>0</td>\n",
       "      <td>13</td>\n",
       "      <td>2015</td>\n",
       "      <td>July</td>\n",
       "      <td>27</td>\n",
       "      <td>1</td>\n",
       "      <td>0</td>\n",
       "      <td>1</td>\n",
       "      <td>1</td>\n",
       "      <td>...</td>\n",
       "      <td>No Deposit</td>\n",
       "      <td>304.0</td>\n",
       "      <td>NaN</td>\n",
       "      <td>0</td>\n",
       "      <td>Transient</td>\n",
       "      <td>75.0</td>\n",
       "      <td>0</td>\n",
       "      <td>0</td>\n",
       "      <td>Check-Out</td>\n",
       "      <td>2015-07-02</td>\n",
       "    </tr>\n",
       "    <tr>\n",
       "      <th>4</th>\n",
       "      <td>Resort Hotel</td>\n",
       "      <td>0</td>\n",
       "      <td>14</td>\n",
       "      <td>2015</td>\n",
       "      <td>July</td>\n",
       "      <td>27</td>\n",
       "      <td>1</td>\n",
       "      <td>0</td>\n",
       "      <td>2</td>\n",
       "      <td>2</td>\n",
       "      <td>...</td>\n",
       "      <td>No Deposit</td>\n",
       "      <td>240.0</td>\n",
       "      <td>NaN</td>\n",
       "      <td>0</td>\n",
       "      <td>Transient</td>\n",
       "      <td>98.0</td>\n",
       "      <td>0</td>\n",
       "      <td>1</td>\n",
       "      <td>Check-Out</td>\n",
       "      <td>2015-07-03</td>\n",
       "    </tr>\n",
       "  </tbody>\n",
       "</table>\n",
       "<p>5 rows × 32 columns</p>\n",
       "</div>"
      ],
      "text/plain": [
       "          hotel  is_canceled  lead_time  arrival_date_year arrival_date_month  \\\n",
       "0  Resort Hotel            0        342               2015               July   \n",
       "1  Resort Hotel            0        737               2015               July   \n",
       "2  Resort Hotel            0          7               2015               July   \n",
       "3  Resort Hotel            0         13               2015               July   \n",
       "4  Resort Hotel            0         14               2015               July   \n",
       "\n",
       "   arrival_date_week_number  arrival_date_day_of_month  \\\n",
       "0                        27                          1   \n",
       "1                        27                          1   \n",
       "2                        27                          1   \n",
       "3                        27                          1   \n",
       "4                        27                          1   \n",
       "\n",
       "   stays_in_weekend_nights  stays_in_week_nights  adults  ...  deposit_type  \\\n",
       "0                        0                     0       2  ...    No Deposit   \n",
       "1                        0                     0       2  ...    No Deposit   \n",
       "2                        0                     1       1  ...    No Deposit   \n",
       "3                        0                     1       1  ...    No Deposit   \n",
       "4                        0                     2       2  ...    No Deposit   \n",
       "\n",
       "   agent company days_in_waiting_list customer_type   adr  \\\n",
       "0    NaN     NaN                    0     Transient   0.0   \n",
       "1    NaN     NaN                    0     Transient   0.0   \n",
       "2    NaN     NaN                    0     Transient  75.0   \n",
       "3  304.0     NaN                    0     Transient  75.0   \n",
       "4  240.0     NaN                    0     Transient  98.0   \n",
       "\n",
       "   required_car_parking_spaces  total_of_special_requests  reservation_status  \\\n",
       "0                            0                          0           Check-Out   \n",
       "1                            0                          0           Check-Out   \n",
       "2                            0                          0           Check-Out   \n",
       "3                            0                          0           Check-Out   \n",
       "4                            0                          1           Check-Out   \n",
       "\n",
       "  reservation_status_date  \n",
       "0              2015-07-01  \n",
       "1              2015-07-01  \n",
       "2              2015-07-02  \n",
       "3              2015-07-02  \n",
       "4              2015-07-03  \n",
       "\n",
       "[5 rows x 32 columns]"
      ]
     },
     "execution_count": 5,
     "metadata": {},
     "output_type": "execute_result"
    }
   ],
   "source": [
    "df.head()"
   ]
  },
  {
   "cell_type": "code",
   "execution_count": 6,
   "id": "5bc14129",
   "metadata": {
    "execution": {
     "iopub.execute_input": "2022-03-25T13:45:19.604676Z",
     "iopub.status.busy": "2022-03-25T13:45:19.603994Z",
     "iopub.status.idle": "2022-03-25T13:45:19.607403Z",
     "shell.execute_reply": "2022-03-25T13:45:19.606879Z",
     "shell.execute_reply.started": "2022-03-25T12:25:58.755164Z"
    },
    "papermill": {
     "duration": 0.087674,
     "end_time": "2022-03-25T13:45:19.607551",
     "exception": false,
     "start_time": "2022-03-25T13:45:19.519877",
     "status": "completed"
    },
    "tags": []
   },
   "outputs": [
    {
     "data": {
      "text/plain": [
       "hotel                              object\n",
       "is_canceled                         int64\n",
       "lead_time                           int64\n",
       "arrival_date_year                   int64\n",
       "arrival_date_month                 object\n",
       "arrival_date_week_number            int64\n",
       "arrival_date_day_of_month           int64\n",
       "stays_in_weekend_nights             int64\n",
       "stays_in_week_nights                int64\n",
       "adults                              int64\n",
       "children                          float64\n",
       "babies                              int64\n",
       "meal                               object\n",
       "country                            object\n",
       "market_segment                     object\n",
       "distribution_channel               object\n",
       "is_repeated_guest                   int64\n",
       "previous_cancellations              int64\n",
       "previous_bookings_not_canceled      int64\n",
       "reserved_room_type                 object\n",
       "assigned_room_type                 object\n",
       "booking_changes                     int64\n",
       "deposit_type                       object\n",
       "agent                             float64\n",
       "company                           float64\n",
       "days_in_waiting_list                int64\n",
       "customer_type                      object\n",
       "adr                               float64\n",
       "required_car_parking_spaces         int64\n",
       "total_of_special_requests           int64\n",
       "reservation_status                 object\n",
       "reservation_status_date            object\n",
       "dtype: object"
      ]
     },
     "execution_count": 6,
     "metadata": {},
     "output_type": "execute_result"
    }
   ],
   "source": [
    "df.dtypes"
   ]
  },
  {
   "cell_type": "code",
   "execution_count": 7,
   "id": "611d3ee2",
   "metadata": {
    "execution": {
     "iopub.execute_input": "2022-03-25T13:45:19.772368Z",
     "iopub.status.busy": "2022-03-25T13:45:19.771578Z",
     "iopub.status.idle": "2022-03-25T13:45:19.776882Z",
     "shell.execute_reply": "2022-03-25T13:45:19.776254Z",
     "shell.execute_reply.started": "2022-03-25T12:25:58.767740Z"
    },
    "papermill": {
     "duration": 0.090623,
     "end_time": "2022-03-25T13:45:19.777034",
     "exception": false,
     "start_time": "2022-03-25T13:45:19.686411",
     "status": "completed"
    },
    "tags": []
   },
   "outputs": [
    {
     "data": {
      "text/plain": [
       "int64      16\n",
       "object     12\n",
       "float64     4\n",
       "dtype: int64"
      ]
     },
     "execution_count": 7,
     "metadata": {},
     "output_type": "execute_result"
    }
   ],
   "source": [
    "df.dtypes.value_counts()"
   ]
  },
  {
   "cell_type": "markdown",
   "id": "844da7e3",
   "metadata": {
    "papermill": {
     "duration": 0.076232,
     "end_time": "2022-03-25T13:45:19.931086",
     "exception": false,
     "start_time": "2022-03-25T13:45:19.854854",
     "status": "completed"
    },
    "tags": []
   },
   "source": [
    "Warning suppression"
   ]
  },
  {
   "cell_type": "code",
   "execution_count": 8,
   "id": "2b1a5793",
   "metadata": {
    "execution": {
     "iopub.execute_input": "2022-03-25T13:45:20.088361Z",
     "iopub.status.busy": "2022-03-25T13:45:20.087620Z",
     "iopub.status.idle": "2022-03-25T13:45:20.090371Z",
     "shell.execute_reply": "2022-03-25T13:45:20.090984Z",
     "shell.execute_reply.started": "2022-03-25T12:25:58.785255Z"
    },
    "papermill": {
     "duration": 0.08331,
     "end_time": "2022-03-25T13:45:20.091183",
     "exception": false,
     "start_time": "2022-03-25T13:45:20.007873",
     "status": "completed"
    },
    "tags": []
   },
   "outputs": [],
   "source": [
    "import warnings\n",
    "warnings.filterwarnings('ignore')"
   ]
  },
  {
   "cell_type": "markdown",
   "id": "46b51a25",
   "metadata": {
    "papermill": {
     "duration": 0.076003,
     "end_time": "2022-03-25T13:45:20.245072",
     "exception": false,
     "start_time": "2022-03-25T13:45:20.169069",
     "status": "completed"
    },
    "tags": []
   },
   "source": [
    "## Defining Target and Independent Feature"
   ]
  },
  {
   "cell_type": "code",
   "execution_count": 9,
   "id": "b73979a9",
   "metadata": {
    "execution": {
     "iopub.execute_input": "2022-03-25T13:45:20.402875Z",
     "iopub.status.busy": "2022-03-25T13:45:20.402153Z",
     "iopub.status.idle": "2022-03-25T13:45:20.436401Z",
     "shell.execute_reply": "2022-03-25T13:45:20.437050Z",
     "shell.execute_reply.started": "2022-03-25T12:25:58.855495Z"
    },
    "papermill": {
     "duration": 0.11548,
     "end_time": "2022-03-25T13:45:20.437277",
     "exception": false,
     "start_time": "2022-03-25T13:45:20.321797",
     "status": "completed"
    },
    "tags": []
   },
   "outputs": [],
   "source": [
    "Y = df[['is_canceled']]\n",
    "X = df.drop(['is_canceled'], axis=1)"
   ]
  },
  {
   "cell_type": "markdown",
   "id": "0b3fe4ad",
   "metadata": {
    "papermill": {
     "duration": 0.078372,
     "end_time": "2022-03-25T13:45:20.594691",
     "exception": false,
     "start_time": "2022-03-25T13:45:20.516319",
     "status": "completed"
    },
    "tags": []
   },
   "source": [
    "## Get Cancellation Rate"
   ]
  },
  {
   "cell_type": "code",
   "execution_count": 10,
   "id": "0fa24936",
   "metadata": {
    "execution": {
     "iopub.execute_input": "2022-03-25T13:45:20.756628Z",
     "iopub.status.busy": "2022-03-25T13:45:20.753463Z",
     "iopub.status.idle": "2022-03-25T13:45:20.760362Z",
     "shell.execute_reply": "2022-03-25T13:45:20.760917Z",
     "shell.execute_reply.started": "2022-03-25T12:25:58.930450Z"
    },
    "papermill": {
     "duration": 0.089403,
     "end_time": "2022-03-25T13:45:20.761122",
     "exception": false,
     "start_time": "2022-03-25T13:45:20.671719",
     "status": "completed"
    },
    "tags": []
   },
   "outputs": [
    {
     "data": {
      "text/plain": [
       "is_canceled    0.370416\n",
       "dtype: float64"
      ]
     },
     "execution_count": 10,
     "metadata": {},
     "output_type": "execute_result"
    }
   ],
   "source": [
    "Y.mean()"
   ]
  },
  {
   "cell_type": "markdown",
   "id": "1be041be",
   "metadata": {
    "papermill": {
     "duration": 0.076644,
     "end_time": "2022-03-25T13:45:20.916646",
     "exception": false,
     "start_time": "2022-03-25T13:45:20.840002",
     "status": "completed"
    },
    "tags": []
   },
   "source": [
    "## Split Featres into Numerical and Categorical"
   ]
  },
  {
   "cell_type": "code",
   "execution_count": 11,
   "id": "a8c2997f",
   "metadata": {
    "execution": {
     "iopub.execute_input": "2022-03-25T13:45:21.093006Z",
     "iopub.status.busy": "2022-03-25T13:45:21.092272Z",
     "iopub.status.idle": "2022-03-25T13:45:21.115953Z",
     "shell.execute_reply": "2022-03-25T13:45:21.116464Z",
     "shell.execute_reply.started": "2022-03-25T12:25:59.007896Z"
    },
    "papermill": {
     "duration": 0.12105,
     "end_time": "2022-03-25T13:45:21.116677",
     "exception": false,
     "start_time": "2022-03-25T13:45:20.995627",
     "status": "completed"
    },
    "tags": []
   },
   "outputs": [],
   "source": [
    "num = X.select_dtypes(include='number')\n",
    "char = X.select_dtypes(include='object')"
   ]
  },
  {
   "cell_type": "code",
   "execution_count": 12,
   "id": "ae662507",
   "metadata": {
    "execution": {
     "iopub.execute_input": "2022-03-25T13:45:21.300629Z",
     "iopub.status.busy": "2022-03-25T13:45:21.299876Z",
     "iopub.status.idle": "2022-03-25T13:45:21.310535Z",
     "shell.execute_reply": "2022-03-25T13:45:21.311114Z",
     "shell.execute_reply.started": "2022-03-25T12:25:59.115713Z"
    },
    "papermill": {
     "duration": 0.115971,
     "end_time": "2022-03-25T13:45:21.311333",
     "exception": false,
     "start_time": "2022-03-25T13:45:21.195362",
     "status": "completed"
    },
    "tags": []
   },
   "outputs": [],
   "source": [
    "# check for how many unique values each column has\n",
    "def unique_levels(x):\n",
    "    x = x.value_counts().count()\n",
    "    return x\n",
    "\n",
    "df_value_counts = pd.DataFrame(num.apply(lambda X: unique_levels(X)))"
   ]
  },
  {
   "cell_type": "code",
   "execution_count": 13,
   "id": "f4c0e6bd",
   "metadata": {
    "execution": {
     "iopub.execute_input": "2022-03-25T13:45:21.471165Z",
     "iopub.status.busy": "2022-03-25T13:45:21.470141Z",
     "iopub.status.idle": "2022-03-25T13:45:21.482722Z",
     "shell.execute_reply": "2022-03-25T13:45:21.483226Z",
     "shell.execute_reply.started": "2022-03-25T12:25:59.207015Z"
    },
    "papermill": {
     "duration": 0.094344,
     "end_time": "2022-03-25T13:45:21.483426",
     "exception": false,
     "start_time": "2022-03-25T13:45:21.389082",
     "status": "completed"
    },
    "tags": []
   },
   "outputs": [
    {
     "data": {
      "text/html": [
       "<div>\n",
       "<style scoped>\n",
       "    .dataframe tbody tr th:only-of-type {\n",
       "        vertical-align: middle;\n",
       "    }\n",
       "\n",
       "    .dataframe tbody tr th {\n",
       "        vertical-align: top;\n",
       "    }\n",
       "\n",
       "    .dataframe thead th {\n",
       "        text-align: right;\n",
       "    }\n",
       "</style>\n",
       "<table border=\"1\" class=\"dataframe\">\n",
       "  <thead>\n",
       "    <tr style=\"text-align: right;\">\n",
       "      <th></th>\n",
       "      <th>feature_levels</th>\n",
       "    </tr>\n",
       "  </thead>\n",
       "  <tbody>\n",
       "    <tr>\n",
       "      <th>adr</th>\n",
       "      <td>8879</td>\n",
       "    </tr>\n",
       "    <tr>\n",
       "      <th>lead_time</th>\n",
       "      <td>479</td>\n",
       "    </tr>\n",
       "    <tr>\n",
       "      <th>company</th>\n",
       "      <td>352</td>\n",
       "    </tr>\n",
       "    <tr>\n",
       "      <th>agent</th>\n",
       "      <td>333</td>\n",
       "    </tr>\n",
       "    <tr>\n",
       "      <th>days_in_waiting_list</th>\n",
       "      <td>128</td>\n",
       "    </tr>\n",
       "    <tr>\n",
       "      <th>previous_bookings_not_canceled</th>\n",
       "      <td>73</td>\n",
       "    </tr>\n",
       "    <tr>\n",
       "      <th>arrival_date_week_number</th>\n",
       "      <td>53</td>\n",
       "    </tr>\n",
       "    <tr>\n",
       "      <th>stays_in_week_nights</th>\n",
       "      <td>35</td>\n",
       "    </tr>\n",
       "    <tr>\n",
       "      <th>arrival_date_day_of_month</th>\n",
       "      <td>31</td>\n",
       "    </tr>\n",
       "    <tr>\n",
       "      <th>booking_changes</th>\n",
       "      <td>21</td>\n",
       "    </tr>\n",
       "    <tr>\n",
       "      <th>stays_in_weekend_nights</th>\n",
       "      <td>17</td>\n",
       "    </tr>\n",
       "    <tr>\n",
       "      <th>previous_cancellations</th>\n",
       "      <td>15</td>\n",
       "    </tr>\n",
       "    <tr>\n",
       "      <th>adults</th>\n",
       "      <td>14</td>\n",
       "    </tr>\n",
       "    <tr>\n",
       "      <th>total_of_special_requests</th>\n",
       "      <td>6</td>\n",
       "    </tr>\n",
       "    <tr>\n",
       "      <th>babies</th>\n",
       "      <td>5</td>\n",
       "    </tr>\n",
       "    <tr>\n",
       "      <th>children</th>\n",
       "      <td>5</td>\n",
       "    </tr>\n",
       "    <tr>\n",
       "      <th>required_car_parking_spaces</th>\n",
       "      <td>5</td>\n",
       "    </tr>\n",
       "    <tr>\n",
       "      <th>arrival_date_year</th>\n",
       "      <td>3</td>\n",
       "    </tr>\n",
       "    <tr>\n",
       "      <th>is_repeated_guest</th>\n",
       "      <td>2</td>\n",
       "    </tr>\n",
       "  </tbody>\n",
       "</table>\n",
       "</div>"
      ],
      "text/plain": [
       "                                feature_levels\n",
       "adr                                       8879\n",
       "lead_time                                  479\n",
       "company                                    352\n",
       "agent                                      333\n",
       "days_in_waiting_list                       128\n",
       "previous_bookings_not_canceled              73\n",
       "arrival_date_week_number                    53\n",
       "stays_in_week_nights                        35\n",
       "arrival_date_day_of_month                   31\n",
       "booking_changes                             21\n",
       "stays_in_weekend_nights                     17\n",
       "previous_cancellations                      15\n",
       "adults                                      14\n",
       "total_of_special_requests                    6\n",
       "babies                                       5\n",
       "children                                     5\n",
       "required_car_parking_spaces                  5\n",
       "arrival_date_year                            3\n",
       "is_repeated_guest                            2"
      ]
     },
     "execution_count": 13,
     "metadata": {},
     "output_type": "execute_result"
    }
   ],
   "source": [
    "df_value_counts.columns = ['feature_levels']\n",
    "df_value_counts.sort_values(by = 'feature_levels', ascending=False)"
   ]
  },
  {
   "cell_type": "code",
   "execution_count": 14,
   "id": "ed7bafd7",
   "metadata": {
    "execution": {
     "iopub.execute_input": "2022-03-25T13:45:21.645578Z",
     "iopub.status.busy": "2022-03-25T13:45:21.644258Z",
     "iopub.status.idle": "2022-03-25T13:45:21.661066Z",
     "shell.execute_reply": "2022-03-25T13:45:21.660368Z",
     "shell.execute_reply.started": "2022-03-25T12:25:59.273517Z"
    },
    "papermill": {
     "duration": 0.097671,
     "end_time": "2022-03-25T13:45:21.661251",
     "exception": false,
     "start_time": "2022-03-25T13:45:21.563580",
     "status": "completed"
    },
    "tags": []
   },
   "outputs": [
    {
     "data": {
      "text/plain": [
       "arrival_date_year                int64\n",
       "stays_in_weekend_nights          int64\n",
       "adults                           int64\n",
       "children                       float64\n",
       "babies                           int64\n",
       "is_repeated_guest                int64\n",
       "previous_cancellations           int64\n",
       "required_car_parking_spaces      int64\n",
       "total_of_special_requests        int64\n",
       "dtype: object"
      ]
     },
     "execution_count": 14,
     "metadata": {},
     "output_type": "execute_result"
    }
   ],
   "source": [
    "slice1 = df_value_counts.loc[df_value_counts['feature_levels']<=20]\n",
    "cat_list = slice1.index\n",
    "cat = num.loc[:, cat_list]\n",
    "cat.dtypes"
   ]
  },
  {
   "cell_type": "code",
   "execution_count": 15,
   "id": "b11c028e",
   "metadata": {
    "execution": {
     "iopub.execute_input": "2022-03-25T13:45:21.843004Z",
     "iopub.status.busy": "2022-03-25T13:45:21.841706Z",
     "iopub.status.idle": "2022-03-25T13:45:21.845563Z",
     "shell.execute_reply": "2022-03-25T13:45:21.846069Z",
     "shell.execute_reply.started": "2022-03-25T12:25:59.339960Z"
    },
    "papermill": {
     "duration": 0.105205,
     "end_time": "2022-03-25T13:45:21.846284",
     "exception": false,
     "start_time": "2022-03-25T13:45:21.741079",
     "status": "completed"
    },
    "tags": []
   },
   "outputs": [
    {
     "data": {
      "text/plain": [
       "lead_time                           int64\n",
       "arrival_date_week_number            int64\n",
       "arrival_date_day_of_month           int64\n",
       "stays_in_week_nights                int64\n",
       "previous_bookings_not_canceled      int64\n",
       "booking_changes                     int64\n",
       "agent                             float64\n",
       "company                           float64\n",
       "days_in_waiting_list                int64\n",
       "adr                               float64\n",
       "dtype: object"
      ]
     },
     "execution_count": 15,
     "metadata": {},
     "output_type": "execute_result"
    }
   ],
   "source": [
    "slice2 = df_value_counts.loc[df_value_counts['feature_levels']>20]\n",
    "num_list = slice2.index\n",
    "num = num.loc[:, num_list]\n",
    "num.dtypes"
   ]
  },
  {
   "cell_type": "code",
   "execution_count": 16,
   "id": "d2a64570",
   "metadata": {
    "execution": {
     "iopub.execute_input": "2022-03-25T13:45:22.009488Z",
     "iopub.status.busy": "2022-03-25T13:45:22.008499Z",
     "iopub.status.idle": "2022-03-25T13:45:22.028461Z",
     "shell.execute_reply": "2022-03-25T13:45:22.029004Z",
     "shell.execute_reply.started": "2022-03-25T12:25:59.399020Z"
    },
    "papermill": {
     "duration": 0.10391,
     "end_time": "2022-03-25T13:45:22.029255",
     "exception": false,
     "start_time": "2022-03-25T13:45:21.925345",
     "status": "completed"
    },
    "tags": []
   },
   "outputs": [],
   "source": [
    "char = pd.concat([char, cat], axis = 1, join = 'inner')"
   ]
  },
  {
   "cell_type": "code",
   "execution_count": 17,
   "id": "77ac4543",
   "metadata": {
    "execution": {
     "iopub.execute_input": "2022-03-25T13:45:22.191135Z",
     "iopub.status.busy": "2022-03-25T13:45:22.190094Z",
     "iopub.status.idle": "2022-03-25T13:45:22.197535Z",
     "shell.execute_reply": "2022-03-25T13:45:22.198055Z",
     "shell.execute_reply.started": "2022-03-25T12:25:59.469077Z"
    },
    "papermill": {
     "duration": 0.090243,
     "end_time": "2022-03-25T13:45:22.198291",
     "exception": false,
     "start_time": "2022-03-25T13:45:22.108048",
     "status": "completed"
    },
    "tags": []
   },
   "outputs": [
    {
     "data": {
      "text/plain": [
       "hotel                           object\n",
       "arrival_date_month              object\n",
       "meal                            object\n",
       "country                         object\n",
       "market_segment                  object\n",
       "distribution_channel            object\n",
       "reserved_room_type              object\n",
       "assigned_room_type              object\n",
       "deposit_type                    object\n",
       "customer_type                   object\n",
       "reservation_status              object\n",
       "reservation_status_date         object\n",
       "arrival_date_year                int64\n",
       "stays_in_weekend_nights          int64\n",
       "adults                           int64\n",
       "children                       float64\n",
       "babies                           int64\n",
       "is_repeated_guest                int64\n",
       "previous_cancellations           int64\n",
       "required_car_parking_spaces      int64\n",
       "total_of_special_requests        int64\n",
       "dtype: object"
      ]
     },
     "execution_count": 17,
     "metadata": {},
     "output_type": "execute_result"
    }
   ],
   "source": [
    "char.dtypes"
   ]
  },
  {
   "cell_type": "markdown",
   "id": "aeb147a0",
   "metadata": {
    "papermill": {
     "duration": 0.079065,
     "end_time": "2022-03-25T13:45:22.355985",
     "exception": false,
     "start_time": "2022-03-25T13:45:22.276920",
     "status": "completed"
    },
    "tags": []
   },
   "source": [
    "## Outliers Analysis of Numerical Features\n"
   ]
  },
  {
   "cell_type": "code",
   "execution_count": 18,
   "id": "f04630f6",
   "metadata": {
    "execution": {
     "iopub.execute_input": "2022-03-25T13:45:22.519634Z",
     "iopub.status.busy": "2022-03-25T13:45:22.518932Z",
     "iopub.status.idle": "2022-03-25T13:45:22.601923Z",
     "shell.execute_reply": "2022-03-25T13:45:22.602447Z",
     "shell.execute_reply.started": "2022-03-25T12:25:59.577949Z"
    },
    "papermill": {
     "duration": 0.167637,
     "end_time": "2022-03-25T13:45:22.602651",
     "exception": false,
     "start_time": "2022-03-25T13:45:22.435014",
     "status": "completed"
    },
    "tags": []
   },
   "outputs": [
    {
     "data": {
      "text/html": [
       "<div>\n",
       "<style scoped>\n",
       "    .dataframe tbody tr th:only-of-type {\n",
       "        vertical-align: middle;\n",
       "    }\n",
       "\n",
       "    .dataframe tbody tr th {\n",
       "        vertical-align: top;\n",
       "    }\n",
       "\n",
       "    .dataframe thead th {\n",
       "        text-align: right;\n",
       "    }\n",
       "</style>\n",
       "<table border=\"1\" class=\"dataframe\">\n",
       "  <thead>\n",
       "    <tr style=\"text-align: right;\">\n",
       "      <th></th>\n",
       "      <th>lead_time</th>\n",
       "      <th>arrival_date_week_number</th>\n",
       "      <th>arrival_date_day_of_month</th>\n",
       "      <th>stays_in_week_nights</th>\n",
       "      <th>previous_bookings_not_canceled</th>\n",
       "      <th>booking_changes</th>\n",
       "      <th>agent</th>\n",
       "      <th>company</th>\n",
       "      <th>days_in_waiting_list</th>\n",
       "      <th>adr</th>\n",
       "    </tr>\n",
       "  </thead>\n",
       "  <tbody>\n",
       "    <tr>\n",
       "      <th>count</th>\n",
       "      <td>119390.000000</td>\n",
       "      <td>119390.000000</td>\n",
       "      <td>119390.000000</td>\n",
       "      <td>119390.000000</td>\n",
       "      <td>119390.000000</td>\n",
       "      <td>119390.000000</td>\n",
       "      <td>103050.000000</td>\n",
       "      <td>6797.000000</td>\n",
       "      <td>119390.000000</td>\n",
       "      <td>119390.000000</td>\n",
       "    </tr>\n",
       "    <tr>\n",
       "      <th>mean</th>\n",
       "      <td>104.011416</td>\n",
       "      <td>27.165173</td>\n",
       "      <td>15.798241</td>\n",
       "      <td>2.500302</td>\n",
       "      <td>0.137097</td>\n",
       "      <td>0.221124</td>\n",
       "      <td>86.693382</td>\n",
       "      <td>189.266735</td>\n",
       "      <td>2.321149</td>\n",
       "      <td>101.831122</td>\n",
       "    </tr>\n",
       "    <tr>\n",
       "      <th>std</th>\n",
       "      <td>106.863097</td>\n",
       "      <td>13.605138</td>\n",
       "      <td>8.780829</td>\n",
       "      <td>1.908286</td>\n",
       "      <td>1.497437</td>\n",
       "      <td>0.652306</td>\n",
       "      <td>110.774548</td>\n",
       "      <td>131.655015</td>\n",
       "      <td>17.594721</td>\n",
       "      <td>50.535790</td>\n",
       "    </tr>\n",
       "    <tr>\n",
       "      <th>min</th>\n",
       "      <td>0.000000</td>\n",
       "      <td>1.000000</td>\n",
       "      <td>1.000000</td>\n",
       "      <td>0.000000</td>\n",
       "      <td>0.000000</td>\n",
       "      <td>0.000000</td>\n",
       "      <td>1.000000</td>\n",
       "      <td>6.000000</td>\n",
       "      <td>0.000000</td>\n",
       "      <td>-6.380000</td>\n",
       "    </tr>\n",
       "    <tr>\n",
       "      <th>1%</th>\n",
       "      <td>0.000000</td>\n",
       "      <td>2.000000</td>\n",
       "      <td>1.000000</td>\n",
       "      <td>0.000000</td>\n",
       "      <td>0.000000</td>\n",
       "      <td>0.000000</td>\n",
       "      <td>1.000000</td>\n",
       "      <td>16.000000</td>\n",
       "      <td>0.000000</td>\n",
       "      <td>0.000000</td>\n",
       "    </tr>\n",
       "    <tr>\n",
       "      <th>5%</th>\n",
       "      <td>0.000000</td>\n",
       "      <td>5.000000</td>\n",
       "      <td>2.000000</td>\n",
       "      <td>0.000000</td>\n",
       "      <td>0.000000</td>\n",
       "      <td>0.000000</td>\n",
       "      <td>1.000000</td>\n",
       "      <td>40.000000</td>\n",
       "      <td>0.000000</td>\n",
       "      <td>38.400000</td>\n",
       "    </tr>\n",
       "    <tr>\n",
       "      <th>10%</th>\n",
       "      <td>3.000000</td>\n",
       "      <td>8.000000</td>\n",
       "      <td>4.000000</td>\n",
       "      <td>1.000000</td>\n",
       "      <td>0.000000</td>\n",
       "      <td>0.000000</td>\n",
       "      <td>6.000000</td>\n",
       "      <td>40.000000</td>\n",
       "      <td>0.000000</td>\n",
       "      <td>50.000000</td>\n",
       "    </tr>\n",
       "    <tr>\n",
       "      <th>25%</th>\n",
       "      <td>18.000000</td>\n",
       "      <td>16.000000</td>\n",
       "      <td>8.000000</td>\n",
       "      <td>1.000000</td>\n",
       "      <td>0.000000</td>\n",
       "      <td>0.000000</td>\n",
       "      <td>9.000000</td>\n",
       "      <td>62.000000</td>\n",
       "      <td>0.000000</td>\n",
       "      <td>69.290000</td>\n",
       "    </tr>\n",
       "    <tr>\n",
       "      <th>50%</th>\n",
       "      <td>69.000000</td>\n",
       "      <td>28.000000</td>\n",
       "      <td>16.000000</td>\n",
       "      <td>2.000000</td>\n",
       "      <td>0.000000</td>\n",
       "      <td>0.000000</td>\n",
       "      <td>14.000000</td>\n",
       "      <td>179.000000</td>\n",
       "      <td>0.000000</td>\n",
       "      <td>94.575000</td>\n",
       "    </tr>\n",
       "    <tr>\n",
       "      <th>75%</th>\n",
       "      <td>160.000000</td>\n",
       "      <td>38.000000</td>\n",
       "      <td>23.000000</td>\n",
       "      <td>3.000000</td>\n",
       "      <td>0.000000</td>\n",
       "      <td>0.000000</td>\n",
       "      <td>229.000000</td>\n",
       "      <td>270.000000</td>\n",
       "      <td>0.000000</td>\n",
       "      <td>126.000000</td>\n",
       "    </tr>\n",
       "    <tr>\n",
       "      <th>85%</th>\n",
       "      <td>216.000000</td>\n",
       "      <td>43.000000</td>\n",
       "      <td>26.000000</td>\n",
       "      <td>4.000000</td>\n",
       "      <td>0.000000</td>\n",
       "      <td>1.000000</td>\n",
       "      <td>240.000000</td>\n",
       "      <td>343.000000</td>\n",
       "      <td>0.000000</td>\n",
       "      <td>147.000000</td>\n",
       "    </tr>\n",
       "    <tr>\n",
       "      <th>88%</th>\n",
       "      <td>244.000000</td>\n",
       "      <td>44.000000</td>\n",
       "      <td>27.000000</td>\n",
       "      <td>5.000000</td>\n",
       "      <td>0.000000</td>\n",
       "      <td>1.000000</td>\n",
       "      <td>240.000000</td>\n",
       "      <td>367.000000</td>\n",
       "      <td>0.000000</td>\n",
       "      <td>157.280000</td>\n",
       "    </tr>\n",
       "    <tr>\n",
       "      <th>90%</th>\n",
       "      <td>265.000000</td>\n",
       "      <td>46.000000</td>\n",
       "      <td>28.000000</td>\n",
       "      <td>5.000000</td>\n",
       "      <td>0.000000</td>\n",
       "      <td>1.000000</td>\n",
       "      <td>241.000000</td>\n",
       "      <td>390.400000</td>\n",
       "      <td>0.000000</td>\n",
       "      <td>164.000000</td>\n",
       "    </tr>\n",
       "    <tr>\n",
       "      <th>99%</th>\n",
       "      <td>444.000000</td>\n",
       "      <td>53.000000</td>\n",
       "      <td>31.000000</td>\n",
       "      <td>10.000000</td>\n",
       "      <td>3.000000</td>\n",
       "      <td>3.000000</td>\n",
       "      <td>390.000000</td>\n",
       "      <td>513.040000</td>\n",
       "      <td>75.000000</td>\n",
       "      <td>252.000000</td>\n",
       "    </tr>\n",
       "    <tr>\n",
       "      <th>max</th>\n",
       "      <td>737.000000</td>\n",
       "      <td>53.000000</td>\n",
       "      <td>31.000000</td>\n",
       "      <td>50.000000</td>\n",
       "      <td>72.000000</td>\n",
       "      <td>21.000000</td>\n",
       "      <td>535.000000</td>\n",
       "      <td>543.000000</td>\n",
       "      <td>391.000000</td>\n",
       "      <td>5400.000000</td>\n",
       "    </tr>\n",
       "  </tbody>\n",
       "</table>\n",
       "</div>"
      ],
      "text/plain": [
       "           lead_time  arrival_date_week_number  arrival_date_day_of_month  \\\n",
       "count  119390.000000             119390.000000              119390.000000   \n",
       "mean      104.011416                 27.165173                  15.798241   \n",
       "std       106.863097                 13.605138                   8.780829   \n",
       "min         0.000000                  1.000000                   1.000000   \n",
       "1%          0.000000                  2.000000                   1.000000   \n",
       "5%          0.000000                  5.000000                   2.000000   \n",
       "10%         3.000000                  8.000000                   4.000000   \n",
       "25%        18.000000                 16.000000                   8.000000   \n",
       "50%        69.000000                 28.000000                  16.000000   \n",
       "75%       160.000000                 38.000000                  23.000000   \n",
       "85%       216.000000                 43.000000                  26.000000   \n",
       "88%       244.000000                 44.000000                  27.000000   \n",
       "90%       265.000000                 46.000000                  28.000000   \n",
       "99%       444.000000                 53.000000                  31.000000   \n",
       "max       737.000000                 53.000000                  31.000000   \n",
       "\n",
       "       stays_in_week_nights  previous_bookings_not_canceled  booking_changes  \\\n",
       "count         119390.000000                   119390.000000    119390.000000   \n",
       "mean               2.500302                        0.137097         0.221124   \n",
       "std                1.908286                        1.497437         0.652306   \n",
       "min                0.000000                        0.000000         0.000000   \n",
       "1%                 0.000000                        0.000000         0.000000   \n",
       "5%                 0.000000                        0.000000         0.000000   \n",
       "10%                1.000000                        0.000000         0.000000   \n",
       "25%                1.000000                        0.000000         0.000000   \n",
       "50%                2.000000                        0.000000         0.000000   \n",
       "75%                3.000000                        0.000000         0.000000   \n",
       "85%                4.000000                        0.000000         1.000000   \n",
       "88%                5.000000                        0.000000         1.000000   \n",
       "90%                5.000000                        0.000000         1.000000   \n",
       "99%               10.000000                        3.000000         3.000000   \n",
       "max               50.000000                       72.000000        21.000000   \n",
       "\n",
       "               agent      company  days_in_waiting_list            adr  \n",
       "count  103050.000000  6797.000000         119390.000000  119390.000000  \n",
       "mean       86.693382   189.266735              2.321149     101.831122  \n",
       "std       110.774548   131.655015             17.594721      50.535790  \n",
       "min         1.000000     6.000000              0.000000      -6.380000  \n",
       "1%          1.000000    16.000000              0.000000       0.000000  \n",
       "5%          1.000000    40.000000              0.000000      38.400000  \n",
       "10%         6.000000    40.000000              0.000000      50.000000  \n",
       "25%         9.000000    62.000000              0.000000      69.290000  \n",
       "50%        14.000000   179.000000              0.000000      94.575000  \n",
       "75%       229.000000   270.000000              0.000000     126.000000  \n",
       "85%       240.000000   343.000000              0.000000     147.000000  \n",
       "88%       240.000000   367.000000              0.000000     157.280000  \n",
       "90%       241.000000   390.400000              0.000000     164.000000  \n",
       "99%       390.000000   513.040000             75.000000     252.000000  \n",
       "max       535.000000   543.000000            391.000000    5400.000000  "
      ]
     },
     "execution_count": 18,
     "metadata": {},
     "output_type": "execute_result"
    }
   ],
   "source": [
    "num.describe(percentiles=[0.01,0.05,0.10,0.25,0.50,0.75,0.85,0.88,0.90,0.99])"
   ]
  },
  {
   "cell_type": "code",
   "execution_count": 19,
   "id": "bd959840",
   "metadata": {
    "execution": {
     "iopub.execute_input": "2022-03-25T13:45:22.767303Z",
     "iopub.status.busy": "2022-03-25T13:45:22.766539Z",
     "iopub.status.idle": "2022-03-25T13:45:22.770454Z",
     "shell.execute_reply": "2022-03-25T13:45:22.771008Z",
     "shell.execute_reply.started": "2022-03-25T12:25:59.663327Z"
    },
    "papermill": {
     "duration": 0.088179,
     "end_time": "2022-03-25T13:45:22.771200",
     "exception": false,
     "start_time": "2022-03-25T13:45:22.683021",
     "status": "completed"
    },
    "tags": []
   },
   "outputs": [],
   "source": [
    "def outlier_cap(x):\n",
    "    x = x.clip(lower = x.quantile(0.01))\n",
    "    x = x.clip(upper = x.quantile(0.99))\n",
    "    return (x)"
   ]
  },
  {
   "cell_type": "code",
   "execution_count": 20,
   "id": "0b0ed34f",
   "metadata": {
    "execution": {
     "iopub.execute_input": "2022-03-25T13:45:22.940612Z",
     "iopub.status.busy": "2022-03-25T13:45:22.939881Z",
     "iopub.status.idle": "2022-03-25T13:45:23.032024Z",
     "shell.execute_reply": "2022-03-25T13:45:23.031395Z",
     "shell.execute_reply.started": "2022-03-25T12:25:59.744487Z"
    },
    "papermill": {
     "duration": 0.17772,
     "end_time": "2022-03-25T13:45:23.032197",
     "exception": false,
     "start_time": "2022-03-25T13:45:22.854477",
     "status": "completed"
    },
    "tags": []
   },
   "outputs": [],
   "source": [
    "num = num.apply(lambda x: outlier_cap(x))"
   ]
  },
  {
   "cell_type": "code",
   "execution_count": 21,
   "id": "91e32e3b",
   "metadata": {
    "execution": {
     "iopub.execute_input": "2022-03-25T13:45:23.204914Z",
     "iopub.status.busy": "2022-03-25T13:45:23.204219Z",
     "iopub.status.idle": "2022-03-25T13:45:23.279634Z",
     "shell.execute_reply": "2022-03-25T13:45:23.280172Z",
     "shell.execute_reply.started": "2022-03-25T12:25:59.838751Z"
    },
    "papermill": {
     "duration": 0.167799,
     "end_time": "2022-03-25T13:45:23.280384",
     "exception": false,
     "start_time": "2022-03-25T13:45:23.112585",
     "status": "completed"
    },
    "tags": []
   },
   "outputs": [
    {
     "data": {
      "text/html": [
       "<div>\n",
       "<style scoped>\n",
       "    .dataframe tbody tr th:only-of-type {\n",
       "        vertical-align: middle;\n",
       "    }\n",
       "\n",
       "    .dataframe tbody tr th {\n",
       "        vertical-align: top;\n",
       "    }\n",
       "\n",
       "    .dataframe thead th {\n",
       "        text-align: right;\n",
       "    }\n",
       "</style>\n",
       "<table border=\"1\" class=\"dataframe\">\n",
       "  <thead>\n",
       "    <tr style=\"text-align: right;\">\n",
       "      <th></th>\n",
       "      <th>lead_time</th>\n",
       "      <th>arrival_date_week_number</th>\n",
       "      <th>arrival_date_day_of_month</th>\n",
       "      <th>stays_in_week_nights</th>\n",
       "      <th>previous_bookings_not_canceled</th>\n",
       "      <th>booking_changes</th>\n",
       "      <th>agent</th>\n",
       "      <th>company</th>\n",
       "      <th>days_in_waiting_list</th>\n",
       "      <th>adr</th>\n",
       "    </tr>\n",
       "  </thead>\n",
       "  <tbody>\n",
       "    <tr>\n",
       "      <th>count</th>\n",
       "      <td>119390.000000</td>\n",
       "      <td>119390.000000</td>\n",
       "      <td>119390.000000</td>\n",
       "      <td>119390.000000</td>\n",
       "      <td>119390.000000</td>\n",
       "      <td>119390.000000</td>\n",
       "      <td>103050.000000</td>\n",
       "      <td>6797.000000</td>\n",
       "      <td>119390.000000</td>\n",
       "      <td>119390.000000</td>\n",
       "    </tr>\n",
       "    <tr>\n",
       "      <th>mean</th>\n",
       "      <td>103.409180</td>\n",
       "      <td>27.173943</td>\n",
       "      <td>15.798241</td>\n",
       "      <td>2.479211</td>\n",
       "      <td>0.060273</td>\n",
       "      <td>0.209574</td>\n",
       "      <td>86.008598</td>\n",
       "      <td>189.206373</td>\n",
       "      <td>1.606902</td>\n",
       "      <td>101.461251</td>\n",
       "    </tr>\n",
       "    <tr>\n",
       "      <th>std</th>\n",
       "      <td>104.600923</td>\n",
       "      <td>13.588582</td>\n",
       "      <td>8.780829</td>\n",
       "      <td>1.761267</td>\n",
       "      <td>0.376351</td>\n",
       "      <td>0.555245</td>\n",
       "      <td>108.591334</td>\n",
       "      <td>131.297172</td>\n",
       "      <td>9.760268</td>\n",
       "      <td>46.905036</td>\n",
       "    </tr>\n",
       "    <tr>\n",
       "      <th>min</th>\n",
       "      <td>0.000000</td>\n",
       "      <td>2.000000</td>\n",
       "      <td>1.000000</td>\n",
       "      <td>0.000000</td>\n",
       "      <td>0.000000</td>\n",
       "      <td>0.000000</td>\n",
       "      <td>1.000000</td>\n",
       "      <td>16.000000</td>\n",
       "      <td>0.000000</td>\n",
       "      <td>0.000000</td>\n",
       "    </tr>\n",
       "    <tr>\n",
       "      <th>1%</th>\n",
       "      <td>0.000000</td>\n",
       "      <td>2.000000</td>\n",
       "      <td>1.000000</td>\n",
       "      <td>0.000000</td>\n",
       "      <td>0.000000</td>\n",
       "      <td>0.000000</td>\n",
       "      <td>1.000000</td>\n",
       "      <td>16.000000</td>\n",
       "      <td>0.000000</td>\n",
       "      <td>0.000000</td>\n",
       "    </tr>\n",
       "    <tr>\n",
       "      <th>5%</th>\n",
       "      <td>0.000000</td>\n",
       "      <td>5.000000</td>\n",
       "      <td>2.000000</td>\n",
       "      <td>0.000000</td>\n",
       "      <td>0.000000</td>\n",
       "      <td>0.000000</td>\n",
       "      <td>1.000000</td>\n",
       "      <td>40.000000</td>\n",
       "      <td>0.000000</td>\n",
       "      <td>38.400000</td>\n",
       "    </tr>\n",
       "    <tr>\n",
       "      <th>10%</th>\n",
       "      <td>3.000000</td>\n",
       "      <td>8.000000</td>\n",
       "      <td>4.000000</td>\n",
       "      <td>1.000000</td>\n",
       "      <td>0.000000</td>\n",
       "      <td>0.000000</td>\n",
       "      <td>6.000000</td>\n",
       "      <td>40.000000</td>\n",
       "      <td>0.000000</td>\n",
       "      <td>50.000000</td>\n",
       "    </tr>\n",
       "    <tr>\n",
       "      <th>25%</th>\n",
       "      <td>18.000000</td>\n",
       "      <td>16.000000</td>\n",
       "      <td>8.000000</td>\n",
       "      <td>1.000000</td>\n",
       "      <td>0.000000</td>\n",
       "      <td>0.000000</td>\n",
       "      <td>9.000000</td>\n",
       "      <td>62.000000</td>\n",
       "      <td>0.000000</td>\n",
       "      <td>69.290000</td>\n",
       "    </tr>\n",
       "    <tr>\n",
       "      <th>50%</th>\n",
       "      <td>69.000000</td>\n",
       "      <td>28.000000</td>\n",
       "      <td>16.000000</td>\n",
       "      <td>2.000000</td>\n",
       "      <td>0.000000</td>\n",
       "      <td>0.000000</td>\n",
       "      <td>14.000000</td>\n",
       "      <td>179.000000</td>\n",
       "      <td>0.000000</td>\n",
       "      <td>94.575000</td>\n",
       "    </tr>\n",
       "    <tr>\n",
       "      <th>75%</th>\n",
       "      <td>160.000000</td>\n",
       "      <td>38.000000</td>\n",
       "      <td>23.000000</td>\n",
       "      <td>3.000000</td>\n",
       "      <td>0.000000</td>\n",
       "      <td>0.000000</td>\n",
       "      <td>229.000000</td>\n",
       "      <td>270.000000</td>\n",
       "      <td>0.000000</td>\n",
       "      <td>126.000000</td>\n",
       "    </tr>\n",
       "    <tr>\n",
       "      <th>85%</th>\n",
       "      <td>216.000000</td>\n",
       "      <td>43.000000</td>\n",
       "      <td>26.000000</td>\n",
       "      <td>4.000000</td>\n",
       "      <td>0.000000</td>\n",
       "      <td>1.000000</td>\n",
       "      <td>240.000000</td>\n",
       "      <td>343.000000</td>\n",
       "      <td>0.000000</td>\n",
       "      <td>147.000000</td>\n",
       "    </tr>\n",
       "    <tr>\n",
       "      <th>88%</th>\n",
       "      <td>244.000000</td>\n",
       "      <td>44.000000</td>\n",
       "      <td>27.000000</td>\n",
       "      <td>5.000000</td>\n",
       "      <td>0.000000</td>\n",
       "      <td>1.000000</td>\n",
       "      <td>240.000000</td>\n",
       "      <td>367.000000</td>\n",
       "      <td>0.000000</td>\n",
       "      <td>157.280000</td>\n",
       "    </tr>\n",
       "    <tr>\n",
       "      <th>90%</th>\n",
       "      <td>265.000000</td>\n",
       "      <td>46.000000</td>\n",
       "      <td>28.000000</td>\n",
       "      <td>5.000000</td>\n",
       "      <td>0.000000</td>\n",
       "      <td>1.000000</td>\n",
       "      <td>241.000000</td>\n",
       "      <td>390.400000</td>\n",
       "      <td>0.000000</td>\n",
       "      <td>164.000000</td>\n",
       "    </tr>\n",
       "    <tr>\n",
       "      <th>99%</th>\n",
       "      <td>444.000000</td>\n",
       "      <td>53.000000</td>\n",
       "      <td>31.000000</td>\n",
       "      <td>10.000000</td>\n",
       "      <td>3.000000</td>\n",
       "      <td>3.000000</td>\n",
       "      <td>390.000000</td>\n",
       "      <td>513.001600</td>\n",
       "      <td>75.000000</td>\n",
       "      <td>252.000000</td>\n",
       "    </tr>\n",
       "    <tr>\n",
       "      <th>max</th>\n",
       "      <td>444.000000</td>\n",
       "      <td>53.000000</td>\n",
       "      <td>31.000000</td>\n",
       "      <td>10.000000</td>\n",
       "      <td>3.000000</td>\n",
       "      <td>3.000000</td>\n",
       "      <td>390.000000</td>\n",
       "      <td>513.040000</td>\n",
       "      <td>75.000000</td>\n",
       "      <td>252.000000</td>\n",
       "    </tr>\n",
       "  </tbody>\n",
       "</table>\n",
       "</div>"
      ],
      "text/plain": [
       "           lead_time  arrival_date_week_number  arrival_date_day_of_month  \\\n",
       "count  119390.000000             119390.000000              119390.000000   \n",
       "mean      103.409180                 27.173943                  15.798241   \n",
       "std       104.600923                 13.588582                   8.780829   \n",
       "min         0.000000                  2.000000                   1.000000   \n",
       "1%          0.000000                  2.000000                   1.000000   \n",
       "5%          0.000000                  5.000000                   2.000000   \n",
       "10%         3.000000                  8.000000                   4.000000   \n",
       "25%        18.000000                 16.000000                   8.000000   \n",
       "50%        69.000000                 28.000000                  16.000000   \n",
       "75%       160.000000                 38.000000                  23.000000   \n",
       "85%       216.000000                 43.000000                  26.000000   \n",
       "88%       244.000000                 44.000000                  27.000000   \n",
       "90%       265.000000                 46.000000                  28.000000   \n",
       "99%       444.000000                 53.000000                  31.000000   \n",
       "max       444.000000                 53.000000                  31.000000   \n",
       "\n",
       "       stays_in_week_nights  previous_bookings_not_canceled  booking_changes  \\\n",
       "count         119390.000000                   119390.000000    119390.000000   \n",
       "mean               2.479211                        0.060273         0.209574   \n",
       "std                1.761267                        0.376351         0.555245   \n",
       "min                0.000000                        0.000000         0.000000   \n",
       "1%                 0.000000                        0.000000         0.000000   \n",
       "5%                 0.000000                        0.000000         0.000000   \n",
       "10%                1.000000                        0.000000         0.000000   \n",
       "25%                1.000000                        0.000000         0.000000   \n",
       "50%                2.000000                        0.000000         0.000000   \n",
       "75%                3.000000                        0.000000         0.000000   \n",
       "85%                4.000000                        0.000000         1.000000   \n",
       "88%                5.000000                        0.000000         1.000000   \n",
       "90%                5.000000                        0.000000         1.000000   \n",
       "99%               10.000000                        3.000000         3.000000   \n",
       "max               10.000000                        3.000000         3.000000   \n",
       "\n",
       "               agent      company  days_in_waiting_list            adr  \n",
       "count  103050.000000  6797.000000         119390.000000  119390.000000  \n",
       "mean       86.008598   189.206373              1.606902     101.461251  \n",
       "std       108.591334   131.297172              9.760268      46.905036  \n",
       "min         1.000000    16.000000              0.000000       0.000000  \n",
       "1%          1.000000    16.000000              0.000000       0.000000  \n",
       "5%          1.000000    40.000000              0.000000      38.400000  \n",
       "10%         6.000000    40.000000              0.000000      50.000000  \n",
       "25%         9.000000    62.000000              0.000000      69.290000  \n",
       "50%        14.000000   179.000000              0.000000      94.575000  \n",
       "75%       229.000000   270.000000              0.000000     126.000000  \n",
       "85%       240.000000   343.000000              0.000000     147.000000  \n",
       "88%       240.000000   367.000000              0.000000     157.280000  \n",
       "90%       241.000000   390.400000              0.000000     164.000000  \n",
       "99%       390.000000   513.001600             75.000000     252.000000  \n",
       "max       390.000000   513.040000             75.000000     252.000000  "
      ]
     },
     "execution_count": 21,
     "metadata": {},
     "output_type": "execute_result"
    }
   ],
   "source": [
    "num.describe(percentiles=[0.01,0.05,0.10,0.25,0.50,0.75,0.85,0.88,0.90,0.99])"
   ]
  },
  {
   "cell_type": "markdown",
   "id": "1e87e7f2",
   "metadata": {
    "papermill": {
     "duration": 0.081907,
     "end_time": "2022-03-25T13:45:23.445414",
     "exception": false,
     "start_time": "2022-03-25T13:45:23.363507",
     "status": "completed"
    },
    "tags": []
   },
   "source": [
    "## Missing Values Analysis"
   ]
  },
  {
   "cell_type": "code",
   "execution_count": 22,
   "id": "e268399c",
   "metadata": {
    "execution": {
     "iopub.execute_input": "2022-03-25T13:45:23.615075Z",
     "iopub.status.busy": "2022-03-25T13:45:23.614339Z",
     "iopub.status.idle": "2022-03-25T13:45:23.624704Z",
     "shell.execute_reply": "2022-03-25T13:45:23.625260Z",
     "shell.execute_reply.started": "2022-03-25T12:25:59.951562Z"
    },
    "papermill": {
     "duration": 0.097627,
     "end_time": "2022-03-25T13:45:23.625487",
     "exception": false,
     "start_time": "2022-03-25T13:45:23.527860",
     "status": "completed"
    },
    "tags": []
   },
   "outputs": [
    {
     "data": {
      "text/plain": [
       "lead_time                         0.000000\n",
       "arrival_date_week_number          0.000000\n",
       "arrival_date_day_of_month         0.000000\n",
       "stays_in_week_nights              0.000000\n",
       "previous_bookings_not_canceled    0.000000\n",
       "booking_changes                   0.000000\n",
       "agent                             0.136862\n",
       "company                           0.943069\n",
       "days_in_waiting_list              0.000000\n",
       "adr                               0.000000\n",
       "dtype: float64"
      ]
     },
     "execution_count": 22,
     "metadata": {},
     "output_type": "execute_result"
    }
   ],
   "source": [
    "num.isnull().mean()"
   ]
  },
  {
   "cell_type": "code",
   "execution_count": 23,
   "id": "384ee948",
   "metadata": {
    "execution": {
     "iopub.execute_input": "2022-03-25T13:45:23.792889Z",
     "iopub.status.busy": "2022-03-25T13:45:23.792197Z",
     "iopub.status.idle": "2022-03-25T13:45:23.953221Z",
     "shell.execute_reply": "2022-03-25T13:45:23.953750Z",
     "shell.execute_reply.started": "2022-03-25T12:26:00.018467Z"
    },
    "papermill": {
     "duration": 0.246437,
     "end_time": "2022-03-25T13:45:23.953997",
     "exception": false,
     "start_time": "2022-03-25T13:45:23.707560",
     "status": "completed"
    },
    "tags": []
   },
   "outputs": [
    {
     "data": {
      "text/plain": [
       "hotel                            0\n",
       "arrival_date_month               0\n",
       "meal                             0\n",
       "country                        488\n",
       "market_segment                   0\n",
       "distribution_channel             0\n",
       "reserved_room_type               0\n",
       "assigned_room_type               0\n",
       "deposit_type                     0\n",
       "customer_type                    0\n",
       "reservation_status               0\n",
       "reservation_status_date          0\n",
       "arrival_date_year                0\n",
       "stays_in_weekend_nights          0\n",
       "adults                           0\n",
       "children                         4\n",
       "babies                           0\n",
       "is_repeated_guest                0\n",
       "previous_cancellations           0\n",
       "required_car_parking_spaces      0\n",
       "total_of_special_requests        0\n",
       "dtype: int64"
      ]
     },
     "execution_count": 23,
     "metadata": {},
     "output_type": "execute_result"
    }
   ],
   "source": [
    "char.isnull().sum()"
   ]
  },
  {
   "cell_type": "markdown",
   "id": "268c0890",
   "metadata": {
    "papermill": {
     "duration": 0.083801,
     "end_time": "2022-03-25T13:45:24.121449",
     "exception": false,
     "start_time": "2022-03-25T13:45:24.037648",
     "status": "completed"
    },
    "tags": []
   },
   "source": [
    "## Dropping Variables that have >25% missing values "
   ]
  },
  {
   "cell_type": "code",
   "execution_count": 24,
   "id": "ebc820c1",
   "metadata": {
    "execution": {
     "iopub.execute_input": "2022-03-25T13:45:24.292427Z",
     "iopub.status.busy": "2022-03-25T13:45:24.291650Z",
     "iopub.status.idle": "2022-03-25T13:45:24.303925Z",
     "shell.execute_reply": "2022-03-25T13:45:24.304424Z",
     "shell.execute_reply.started": "2022-03-25T12:26:00.197632Z"
    },
    "papermill": {
     "duration": 0.099941,
     "end_time": "2022-03-25T13:45:24.304640",
     "exception": false,
     "start_time": "2022-03-25T13:45:24.204699",
     "status": "completed"
    },
    "tags": []
   },
   "outputs": [],
   "source": [
    "num = num.loc[:, num.isnull().mean() <= 0.25 ]"
   ]
  },
  {
   "cell_type": "code",
   "execution_count": 25,
   "id": "e55ea0f5",
   "metadata": {
    "execution": {
     "iopub.execute_input": "2022-03-25T13:45:24.474364Z",
     "iopub.status.busy": "2022-03-25T13:45:24.473216Z",
     "iopub.status.idle": "2022-03-25T13:45:24.484374Z",
     "shell.execute_reply": "2022-03-25T13:45:24.484944Z",
     "shell.execute_reply.started": "2022-03-25T12:26:00.245014Z"
    },
    "papermill": {
     "duration": 0.098042,
     "end_time": "2022-03-25T13:45:24.485165",
     "exception": false,
     "start_time": "2022-03-25T13:45:24.387123",
     "status": "completed"
    },
    "tags": []
   },
   "outputs": [
    {
     "data": {
      "text/plain": [
       "lead_time                         0.000000\n",
       "arrival_date_week_number          0.000000\n",
       "arrival_date_day_of_month         0.000000\n",
       "stays_in_week_nights              0.000000\n",
       "previous_bookings_not_canceled    0.000000\n",
       "booking_changes                   0.000000\n",
       "agent                             0.136862\n",
       "days_in_waiting_list              0.000000\n",
       "adr                               0.000000\n",
       "dtype: float64"
      ]
     },
     "execution_count": 25,
     "metadata": {},
     "output_type": "execute_result"
    }
   ],
   "source": [
    "num.isnull().mean()"
   ]
  },
  {
   "cell_type": "markdown",
   "id": "7e693510",
   "metadata": {
    "papermill": {
     "duration": 0.082803,
     "end_time": "2022-03-25T13:45:24.651089",
     "exception": false,
     "start_time": "2022-03-25T13:45:24.568286",
     "status": "completed"
    },
    "tags": []
   },
   "source": [
    "## Imputation of Missing Values"
   ]
  },
  {
   "cell_type": "code",
   "execution_count": 26,
   "id": "b0fece45",
   "metadata": {
    "execution": {
     "iopub.execute_input": "2022-03-25T13:45:24.823207Z",
     "iopub.status.busy": "2022-03-25T13:45:24.822458Z",
     "iopub.status.idle": "2022-03-25T13:45:25.161591Z",
     "shell.execute_reply": "2022-03-25T13:45:25.160868Z",
     "shell.execute_reply.started": "2022-03-25T12:26:00.319736Z"
    },
    "papermill": {
     "duration": 0.42769,
     "end_time": "2022-03-25T13:45:25.161753",
     "exception": false,
     "start_time": "2022-03-25T13:45:24.734063",
     "status": "completed"
    },
    "tags": []
   },
   "outputs": [],
   "source": [
    "from sklearn.impute import SimpleImputer\n",
    "imputer = SimpleImputer(missing_values=np.nan, strategy='mean')\n",
    "num_1 = pd.DataFrame(imputer.fit_transform(num), index = num.index, columns=num.columns)"
   ]
  },
  {
   "cell_type": "code",
   "execution_count": 27,
   "id": "03fa9177",
   "metadata": {
    "execution": {
     "iopub.execute_input": "2022-03-25T13:45:25.333509Z",
     "iopub.status.busy": "2022-03-25T13:45:25.332346Z",
     "iopub.status.idle": "2022-03-25T13:45:25.340843Z",
     "shell.execute_reply": "2022-03-25T13:45:25.341426Z",
     "shell.execute_reply.started": "2022-03-25T12:26:00.400239Z"
    },
    "papermill": {
     "duration": 0.096623,
     "end_time": "2022-03-25T13:45:25.341619",
     "exception": false,
     "start_time": "2022-03-25T13:45:25.244996",
     "status": "completed"
    },
    "tags": []
   },
   "outputs": [
    {
     "data": {
      "text/plain": [
       "lead_time                         0.0\n",
       "arrival_date_week_number          0.0\n",
       "arrival_date_day_of_month         0.0\n",
       "stays_in_week_nights              0.0\n",
       "previous_bookings_not_canceled    0.0\n",
       "booking_changes                   0.0\n",
       "agent                             0.0\n",
       "days_in_waiting_list              0.0\n",
       "adr                               0.0\n",
       "dtype: float64"
      ]
     },
     "execution_count": 27,
     "metadata": {},
     "output_type": "execute_result"
    }
   ],
   "source": [
    "num_1.isnull().mean()"
   ]
  },
  {
   "cell_type": "code",
   "execution_count": 28,
   "id": "9db72715",
   "metadata": {
    "execution": {
     "iopub.execute_input": "2022-03-25T13:45:25.510827Z",
     "iopub.status.busy": "2022-03-25T13:45:25.510168Z",
     "iopub.status.idle": "2022-03-25T13:45:26.308487Z",
     "shell.execute_reply": "2022-03-25T13:45:26.309103Z",
     "shell.execute_reply.started": "2022-03-25T12:26:00.475080Z"
    },
    "papermill": {
     "duration": 0.884966,
     "end_time": "2022-03-25T13:45:26.309346",
     "exception": false,
     "start_time": "2022-03-25T13:45:25.424380",
     "status": "completed"
    },
    "tags": []
   },
   "outputs": [],
   "source": [
    "imputer = SimpleImputer(missing_values=np.nan, strategy='most_frequent')\n",
    "char_1 = pd.DataFrame(imputer.fit_transform(char), index = char.index, columns=char.columns)"
   ]
  },
  {
   "cell_type": "code",
   "execution_count": 29,
   "id": "c58618a6",
   "metadata": {
    "execution": {
     "iopub.execute_input": "2022-03-25T13:45:26.481090Z",
     "iopub.status.busy": "2022-03-25T13:45:26.480364Z",
     "iopub.status.idle": "2022-03-25T13:45:26.748192Z",
     "shell.execute_reply": "2022-03-25T13:45:26.748717Z",
     "shell.execute_reply.started": "2022-03-25T12:26:01.333697Z"
    },
    "papermill": {
     "duration": 0.355505,
     "end_time": "2022-03-25T13:45:26.748935",
     "exception": false,
     "start_time": "2022-03-25T13:45:26.393430",
     "status": "completed"
    },
    "tags": []
   },
   "outputs": [
    {
     "data": {
      "text/plain": [
       "hotel                          0\n",
       "arrival_date_month             0\n",
       "meal                           0\n",
       "country                        0\n",
       "market_segment                 0\n",
       "distribution_channel           0\n",
       "reserved_room_type             0\n",
       "assigned_room_type             0\n",
       "deposit_type                   0\n",
       "customer_type                  0\n",
       "reservation_status             0\n",
       "reservation_status_date        0\n",
       "arrival_date_year              0\n",
       "stays_in_weekend_nights        0\n",
       "adults                         0\n",
       "children                       0\n",
       "babies                         0\n",
       "is_repeated_guest              0\n",
       "previous_cancellations         0\n",
       "required_car_parking_spaces    0\n",
       "total_of_special_requests      0\n",
       "dtype: int64"
      ]
     },
     "execution_count": 29,
     "metadata": {},
     "output_type": "execute_result"
    }
   ],
   "source": [
    "char_1.isnull().sum()"
   ]
  },
  {
   "cell_type": "markdown",
   "id": "594dc996",
   "metadata": {
    "papermill": {
     "duration": 0.083,
     "end_time": "2022-03-25T13:45:26.916966",
     "exception": false,
     "start_time": "2022-03-25T13:45:26.833966",
     "status": "completed"
    },
    "tags": []
   },
   "source": [
    "## Feature Selection - Numerical Features"
   ]
  },
  {
   "cell_type": "markdown",
   "id": "e0bcabbe",
   "metadata": {
    "papermill": {
     "duration": 0.084859,
     "end_time": "2022-03-25T13:45:27.085503",
     "exception": false,
     "start_time": "2022-03-25T13:45:27.000644",
     "status": "completed"
    },
    "tags": []
   },
   "source": [
    "## Part 1: Remove Features with Zero Variance"
   ]
  },
  {
   "cell_type": "code",
   "execution_count": 30,
   "id": "5633916d",
   "metadata": {
    "execution": {
     "iopub.execute_input": "2022-03-25T13:45:27.263148Z",
     "iopub.status.busy": "2022-03-25T13:45:27.262427Z",
     "iopub.status.idle": "2022-03-25T13:45:27.298653Z",
     "shell.execute_reply": "2022-03-25T13:45:27.299227Z",
     "shell.execute_reply.started": "2022-03-25T12:26:01.640731Z"
    },
    "papermill": {
     "duration": 0.128079,
     "end_time": "2022-03-25T13:45:27.299437",
     "exception": false,
     "start_time": "2022-03-25T13:45:27.171358",
     "status": "completed"
    },
    "tags": []
   },
   "outputs": [],
   "source": [
    "from sklearn.feature_selection import VarianceThreshold\n",
    "varselector = VarianceThreshold(threshold = 0)\n",
    "varselector.fit_transform(num_1)\n",
    "\n",
    "#get column indices to keep and create new df with those columns only\n",
    "cols = varselector.get_support(indices=True)\n",
    "num_2 = num_1.iloc[:,cols]"
   ]
  },
  {
   "cell_type": "code",
   "execution_count": 31,
   "id": "039b29e4",
   "metadata": {
    "execution": {
     "iopub.execute_input": "2022-03-25T13:45:27.471425Z",
     "iopub.status.busy": "2022-03-25T13:45:27.470435Z",
     "iopub.status.idle": "2022-03-25T13:45:27.478084Z",
     "shell.execute_reply": "2022-03-25T13:45:27.478677Z",
     "shell.execute_reply.started": "2022-03-25T12:26:01.683499Z"
    },
    "papermill": {
     "duration": 0.095771,
     "end_time": "2022-03-25T13:45:27.478920",
     "exception": false,
     "start_time": "2022-03-25T13:45:27.383149",
     "status": "completed"
    },
    "tags": []
   },
   "outputs": [
    {
     "data": {
      "text/plain": [
       "lead_time                         342.000000\n",
       "arrival_date_week_number           27.000000\n",
       "arrival_date_day_of_month           1.000000\n",
       "stays_in_week_nights                0.000000\n",
       "previous_bookings_not_canceled      0.000000\n",
       "booking_changes                     3.000000\n",
       "agent                              86.008598\n",
       "days_in_waiting_list                0.000000\n",
       "adr                                 0.000000\n",
       "Name: 0, dtype: float64"
      ]
     },
     "execution_count": 31,
     "metadata": {},
     "output_type": "execute_result"
    }
   ],
   "source": [
    "num_2.iloc[0]"
   ]
  },
  {
   "cell_type": "markdown",
   "id": "f0c7cb6e",
   "metadata": {
    "papermill": {
     "duration": 0.085599,
     "end_time": "2022-03-25T13:45:27.650927",
     "exception": false,
     "start_time": "2022-03-25T13:45:27.565328",
     "status": "completed"
    },
    "tags": []
   },
   "source": [
    "## Part 2: Bivariate Analysis (Feature Discretization)"
   ]
  },
  {
   "cell_type": "code",
   "execution_count": 32,
   "id": "9631268c",
   "metadata": {
    "execution": {
     "iopub.execute_input": "2022-03-25T13:45:27.828238Z",
     "iopub.status.busy": "2022-03-25T13:45:27.827517Z",
     "iopub.status.idle": "2022-03-25T13:45:27.912339Z",
     "shell.execute_reply": "2022-03-25T13:45:27.912884Z",
     "shell.execute_reply.started": "2022-03-25T12:26:01.695334Z"
    },
    "papermill": {
     "duration": 0.17843,
     "end_time": "2022-03-25T13:45:27.913084",
     "exception": false,
     "start_time": "2022-03-25T13:45:27.734654",
     "status": "completed"
    },
    "tags": []
   },
   "outputs": [
    {
     "data": {
      "text/html": [
       "<div>\n",
       "<style scoped>\n",
       "    .dataframe tbody tr th:only-of-type {\n",
       "        vertical-align: middle;\n",
       "    }\n",
       "\n",
       "    .dataframe tbody tr th {\n",
       "        vertical-align: top;\n",
       "    }\n",
       "\n",
       "    .dataframe thead th {\n",
       "        text-align: right;\n",
       "    }\n",
       "</style>\n",
       "<table border=\"1\" class=\"dataframe\">\n",
       "  <thead>\n",
       "    <tr style=\"text-align: right;\">\n",
       "      <th></th>\n",
       "      <th>lead_time_Rank</th>\n",
       "      <th>arrival_date_week_number_Rank</th>\n",
       "      <th>arrival_date_day_of_month_Rank</th>\n",
       "      <th>stays_in_week_nights_Rank</th>\n",
       "      <th>previous_bookings_not_canceled_Rank</th>\n",
       "      <th>booking_changes_Rank</th>\n",
       "      <th>agent_Rank</th>\n",
       "      <th>days_in_waiting_list_Rank</th>\n",
       "      <th>adr_Rank</th>\n",
       "    </tr>\n",
       "  </thead>\n",
       "  <tbody>\n",
       "    <tr>\n",
       "      <th>119385</th>\n",
       "      <td>2.0</td>\n",
       "      <td>6.0</td>\n",
       "      <td>9.0</td>\n",
       "      <td>5.0</td>\n",
       "      <td>0.0</td>\n",
       "      <td>0.0</td>\n",
       "      <td>5.0</td>\n",
       "      <td>0.0</td>\n",
       "      <td>5.0</td>\n",
       "    </tr>\n",
       "    <tr>\n",
       "      <th>119386</th>\n",
       "      <td>6.0</td>\n",
       "      <td>6.0</td>\n",
       "      <td>9.0</td>\n",
       "      <td>5.0</td>\n",
       "      <td>0.0</td>\n",
       "      <td>0.0</td>\n",
       "      <td>2.0</td>\n",
       "      <td>0.0</td>\n",
       "      <td>9.0</td>\n",
       "    </tr>\n",
       "    <tr>\n",
       "      <th>119387</th>\n",
       "      <td>3.0</td>\n",
       "      <td>6.0</td>\n",
       "      <td>9.0</td>\n",
       "      <td>5.0</td>\n",
       "      <td>0.0</td>\n",
       "      <td>0.0</td>\n",
       "      <td>2.0</td>\n",
       "      <td>0.0</td>\n",
       "      <td>8.0</td>\n",
       "    </tr>\n",
       "    <tr>\n",
       "      <th>119388</th>\n",
       "      <td>6.0</td>\n",
       "      <td>6.0</td>\n",
       "      <td>9.0</td>\n",
       "      <td>5.0</td>\n",
       "      <td>0.0</td>\n",
       "      <td>0.0</td>\n",
       "      <td>4.0</td>\n",
       "      <td>0.0</td>\n",
       "      <td>5.0</td>\n",
       "    </tr>\n",
       "    <tr>\n",
       "      <th>119389</th>\n",
       "      <td>8.0</td>\n",
       "      <td>6.0</td>\n",
       "      <td>9.0</td>\n",
       "      <td>5.0</td>\n",
       "      <td>0.0</td>\n",
       "      <td>0.0</td>\n",
       "      <td>2.0</td>\n",
       "      <td>0.0</td>\n",
       "      <td>8.0</td>\n",
       "    </tr>\n",
       "  </tbody>\n",
       "</table>\n",
       "</div>"
      ],
      "text/plain": [
       "        lead_time_Rank  arrival_date_week_number_Rank  \\\n",
       "119385             2.0                            6.0   \n",
       "119386             6.0                            6.0   \n",
       "119387             3.0                            6.0   \n",
       "119388             6.0                            6.0   \n",
       "119389             8.0                            6.0   \n",
       "\n",
       "        arrival_date_day_of_month_Rank  stays_in_week_nights_Rank  \\\n",
       "119385                             9.0                        5.0   \n",
       "119386                             9.0                        5.0   \n",
       "119387                             9.0                        5.0   \n",
       "119388                             9.0                        5.0   \n",
       "119389                             9.0                        5.0   \n",
       "\n",
       "        previous_bookings_not_canceled_Rank  booking_changes_Rank  agent_Rank  \\\n",
       "119385                                  0.0                   0.0         5.0   \n",
       "119386                                  0.0                   0.0         2.0   \n",
       "119387                                  0.0                   0.0         2.0   \n",
       "119388                                  0.0                   0.0         4.0   \n",
       "119389                                  0.0                   0.0         2.0   \n",
       "\n",
       "        days_in_waiting_list_Rank  adr_Rank  \n",
       "119385                        0.0       5.0  \n",
       "119386                        0.0       9.0  \n",
       "119387                        0.0       8.0  \n",
       "119388                        0.0       5.0  \n",
       "119389                        0.0       8.0  "
      ]
     },
     "execution_count": 32,
     "metadata": {},
     "output_type": "execute_result"
    }
   ],
   "source": [
    "from sklearn.preprocessing import KBinsDiscretizer\n",
    "discrete = KBinsDiscretizer(n_bins = 10, encode = 'ordinal', strategy = 'quantile')\n",
    "num_binned = pd.DataFrame(discrete.fit_transform(num_2), index=num_2.index, columns = num_2.columns).add_suffix('_Rank')\n",
    "num_binned.tail()"
   ]
  },
  {
   "cell_type": "code",
   "execution_count": 33,
   "id": "f5841e43",
   "metadata": {
    "execution": {
     "iopub.execute_input": "2022-03-25T13:45:28.092500Z",
     "iopub.status.busy": "2022-03-25T13:45:28.091699Z",
     "iopub.status.idle": "2022-03-25T13:45:56.730368Z",
     "shell.execute_reply": "2022-03-25T13:45:56.730914Z",
     "shell.execute_reply.started": "2022-03-25T12:26:01.813104Z"
    },
    "papermill": {
     "duration": 28.732364,
     "end_time": "2022-03-25T13:45:56.731119",
     "exception": false,
     "start_time": "2022-03-25T13:45:27.998755",
     "status": "completed"
    },
    "tags": []
   },
   "outputs": [
    {
     "data": {
      "image/png": "[encoded data removed]",
      "text/plain": [
       "<Figure size 432x288 with 1 Axes>"
      ]
     },
     "metadata": {
      "needs_background": "light"
     },
     "output_type": "display_data"
    },
    {
     "data": {
      "image/png": "[encoded data removed]",
      "text/plain": [
       "<Figure size 432x288 with 1 Axes>"
      ]
     },
     "metadata": {
      "needs_background": "light"
     },
     "output_type": "display_data"
    },
    {
     "data": {
      "image/png": "[encoded data removed]",
      "text/plain": [
       "<Figure size 432x288 with 1 Axes>"
      ]
     },
     "metadata": {
      "needs_background": "light"
     },
     "output_type": "display_data"
    },
    {
     "data": {
      "image/png": "[encoded data removed]",
      "text/plain": [
       "<Figure size 432x288 with 1 Axes>"
      ]
     },
     "metadata": {
      "needs_background": "light"
     },
     "output_type": "display_data"
    },
    {
     "data": {
      "image/png": "[encoded data removed]",
      "text/plain": [
       "<Figure size 432x288 with 1 Axes>"
      ]
     },
     "metadata": {
      "needs_background": "light"
     },
     "output_type": "display_data"
    },
    {
     "data": {
      "image/png": "[encoded data removed]",
      "text/plain": [
       "<Figure size 432x288 with 1 Axes>"
      ]
     },
     "metadata": {
      "needs_background": "light"
     },
     "output_type": "display_data"
    },
    {
     "data": {
      "image/png": "[encoded data removed]",
      "text/plain": [
       "<Figure size 432x288 with 1 Axes>"
      ]
     },
     "metadata": {
      "needs_background": "light"
     },
     "output_type": "display_data"
    },
    {
     "data": {
      "image/png": "[encoded data removed]",
      "text/plain": [
       "<Figure size 432x288 with 1 Axes>"
      ]
     },
     "metadata": {
      "needs_background": "light"
     },
     "output_type": "display_data"
    },
    {
     "data": {
      "image/png": "[encoded data removed]",
      "text/plain": [
       "<Figure size 432x288 with 1 Axes>"
      ]
     },
     "metadata": {
      "needs_background": "light"
     },
     "output_type": "display_data"
    }
   ],
   "source": [
    "# Check if the features show a slope at all\n",
    "#If they do, then do you see some deciles below the population average and some higher than population average?\n",
    "#If that is the case then the slope will be strong\n",
    "#Conclusion: A strong slope is indicative of the features' ability to discriminate the event from non event\n",
    "#            making it a good predictor\n",
    "\n",
    "X_bin_combined = pd.concat([Y,num_binned], axis = 1, join = 'inner')\n",
    "\n",
    "from numpy import mean\n",
    "for col in num_binned.columns:\n",
    "    plt.figure()\n",
    "    sns.lineplot(x=col, y = X_bin_combined['is_canceled'].mean(), data=X_bin_combined, color='red')\n",
    "    sns.barplot(x=col, y='is_canceled', data=X_bin_combined, estimator = mean)\n",
    "plt.show()\n"
   ]
  },
  {
   "cell_type": "code",
   "execution_count": 34,
   "id": "fa189d9c",
   "metadata": {
    "execution": {
     "iopub.execute_input": "2022-03-25T13:45:56.924743Z",
     "iopub.status.busy": "2022-03-25T13:45:56.923837Z",
     "iopub.status.idle": "2022-03-25T13:45:56.927292Z",
     "shell.execute_reply": "2022-03-25T13:45:56.927790Z",
     "shell.execute_reply.started": "2022-03-25T12:26:34.315507Z"
    },
    "papermill": {
     "duration": 0.104233,
     "end_time": "2022-03-25T13:45:56.928017",
     "exception": false,
     "start_time": "2022-03-25T13:45:56.823784",
     "status": "completed"
    },
    "tags": []
   },
   "outputs": [
    {
     "data": {
      "text/plain": [
       "Index(['lead_time', 'arrival_date_week_number', 'arrival_date_day_of_month',\n",
       "       'stays_in_week_nights', 'previous_bookings_not_canceled',\n",
       "       'booking_changes', 'agent', 'days_in_waiting_list', 'adr'],\n",
       "      dtype='object')"
      ]
     },
     "execution_count": 34,
     "metadata": {},
     "output_type": "execute_result"
    }
   ],
   "source": [
    "num.columns"
   ]
  },
  {
   "cell_type": "code",
   "execution_count": 35,
   "id": "6e92f6da",
   "metadata": {
    "execution": {
     "iopub.execute_input": "2022-03-25T13:45:57.123296Z",
     "iopub.status.busy": "2022-03-25T13:45:57.122524Z",
     "iopub.status.idle": "2022-03-25T13:45:57.129979Z",
     "shell.execute_reply": "2022-03-25T13:45:57.129371Z",
     "shell.execute_reply.started": "2022-03-25T12:26:34.329716Z"
    },
    "papermill": {
     "duration": 0.107511,
     "end_time": "2022-03-25T13:45:57.130147",
     "exception": false,
     "start_time": "2022-03-25T13:45:57.022636",
     "status": "completed"
    },
    "tags": []
   },
   "outputs": [],
   "source": [
    "# Check the descriptive stats for the following feature\n",
    "# previous_bookings_not_canceled\n",
    "# days_in_waiting_list\n",
    "# booking_changes\n",
    "\n",
    "num_2['day_wait_ind'] = np.where(num_2['days_in_waiting_list']>0, 1, 0)\n",
    "num_2['previous_bookings_not_canceled_ind'] = np.where(num_2['previous_bookings_not_canceled']>0, 1, 0)\n",
    "num_2['booking_changes_ind'] = np.where(num_2['booking_changes']<0, 1, 0)"
   ]
  },
  {
   "cell_type": "code",
   "execution_count": 36,
   "id": "54e80074",
   "metadata": {
    "execution": {
     "iopub.execute_input": "2022-03-25T13:45:57.324218Z",
     "iopub.status.busy": "2022-03-25T13:45:57.323476Z",
     "iopub.status.idle": "2022-03-25T13:45:57.330678Z",
     "shell.execute_reply": "2022-03-25T13:45:57.329955Z",
     "shell.execute_reply.started": "2022-03-25T12:26:34.353739Z"
    },
    "papermill": {
     "duration": 0.106321,
     "end_time": "2022-03-25T13:45:57.330867",
     "exception": false,
     "start_time": "2022-03-25T13:45:57.224546",
     "status": "completed"
    },
    "tags": []
   },
   "outputs": [],
   "source": [
    "num_varlist = ['arrival_date_day_of_month', 'arrival_date_week_number', 'days_in_waiting_list', 'previous_bookings_not_canceled', \n",
    "               'booking_changes']\n",
    "\n",
    "num_2 = num_2.drop(num_varlist, axis=1)"
   ]
  },
  {
   "cell_type": "code",
   "execution_count": 37,
   "id": "8e957809",
   "metadata": {
    "execution": {
     "iopub.execute_input": "2022-03-25T13:45:57.526547Z",
     "iopub.status.busy": "2022-03-25T13:45:57.525831Z",
     "iopub.status.idle": "2022-03-25T13:45:57.529101Z",
     "shell.execute_reply": "2022-03-25T13:45:57.529604Z",
     "shell.execute_reply.started": "2022-03-25T12:26:34.385594Z"
    },
    "papermill": {
     "duration": 0.106202,
     "end_time": "2022-03-25T13:45:57.529826",
     "exception": false,
     "start_time": "2022-03-25T13:45:57.423624",
     "status": "completed"
    },
    "tags": []
   },
   "outputs": [
    {
     "data": {
      "text/plain": [
       "lead_time                             float64\n",
       "stays_in_week_nights                  float64\n",
       "agent                                 float64\n",
       "adr                                   float64\n",
       "day_wait_ind                            int64\n",
       "previous_bookings_not_canceled_ind      int64\n",
       "booking_changes_ind                     int64\n",
       "dtype: object"
      ]
     },
     "execution_count": 37,
     "metadata": {},
     "output_type": "execute_result"
    }
   ],
   "source": [
    "num_2.dtypes"
   ]
  },
  {
   "cell_type": "markdown",
   "id": "53933239",
   "metadata": {
    "papermill": {
     "duration": 0.09299,
     "end_time": "2022-03-25T13:45:57.718127",
     "exception": false,
     "start_time": "2022-03-25T13:45:57.625137",
     "status": "completed"
    },
    "tags": []
   },
   "source": [
    "## Part 3 - Select K Best"
   ]
  },
  {
   "cell_type": "code",
   "execution_count": 38,
   "id": "b2fdae95",
   "metadata": {
    "execution": {
     "iopub.execute_input": "2022-03-25T13:45:57.915042Z",
     "iopub.status.busy": "2022-03-25T13:45:57.914190Z",
     "iopub.status.idle": "2022-03-25T13:45:57.957893Z",
     "shell.execute_reply": "2022-03-25T13:45:57.956549Z",
     "shell.execute_reply.started": "2022-03-25T12:26:34.407631Z"
    },
    "papermill": {
     "duration": 0.144826,
     "end_time": "2022-03-25T13:45:57.958078",
     "exception": false,
     "start_time": "2022-03-25T13:45:57.813252",
     "status": "completed"
    },
    "tags": []
   },
   "outputs": [],
   "source": [
    "from sklearn.feature_selection import SelectKBest, chi2\n",
    "selector = SelectKBest(chi2, k=4)\n",
    "selector.fit_transform(num_2, Y)\n",
    "\n",
    "#get columns to create new df with them only\n",
    "cols = selector.get_support(indices=True)\n",
    "select_features_df_num = num_2.iloc[:,cols]"
   ]
  },
  {
   "cell_type": "code",
   "execution_count": 39,
   "id": "376104ae",
   "metadata": {
    "execution": {
     "iopub.execute_input": "2022-03-25T13:45:58.156396Z",
     "iopub.status.busy": "2022-03-25T13:45:58.155392Z",
     "iopub.status.idle": "2022-03-25T13:45:58.158993Z",
     "shell.execute_reply": "2022-03-25T13:45:58.159492Z",
     "shell.execute_reply.started": "2022-03-25T12:26:34.461674Z"
    },
    "papermill": {
     "duration": 0.106484,
     "end_time": "2022-03-25T13:45:58.159687",
     "exception": false,
     "start_time": "2022-03-25T13:45:58.053203",
     "status": "completed"
    },
    "tags": []
   },
   "outputs": [
    {
     "data": {
      "text/plain": [
       "lead_time                             342.000000\n",
       "agent                                  86.008598\n",
       "adr                                     0.000000\n",
       "previous_bookings_not_canceled_ind      0.000000\n",
       "Name: 0, dtype: float64"
      ]
     },
     "execution_count": 39,
     "metadata": {},
     "output_type": "execute_result"
    }
   ],
   "source": [
    "select_features_df_num.iloc[0]"
   ]
  },
  {
   "cell_type": "markdown",
   "id": "52800242",
   "metadata": {
    "papermill": {
     "duration": 0.092159,
     "end_time": "2022-03-25T13:45:58.346317",
     "exception": false,
     "start_time": "2022-03-25T13:45:58.254158",
     "status": "completed"
    },
    "tags": []
   },
   "source": [
    "## Feature Selection - Categorical Features"
   ]
  },
  {
   "cell_type": "code",
   "execution_count": 40,
   "id": "c3766f51",
   "metadata": {
    "execution": {
     "iopub.execute_input": "2022-03-25T13:45:58.545719Z",
     "iopub.status.busy": "2022-03-25T13:45:58.544777Z",
     "iopub.status.idle": "2022-03-25T13:45:58.731884Z",
     "shell.execute_reply": "2022-03-25T13:45:58.731194Z",
     "shell.execute_reply.started": "2022-03-25T12:26:34.474786Z"
    },
    "papermill": {
     "duration": 0.292371,
     "end_time": "2022-03-25T13:45:58.732030",
     "exception": false,
     "start_time": "2022-03-25T13:45:58.439659",
     "status": "completed"
    },
    "tags": []
   },
   "outputs": [
    {
     "data": {
      "text/plain": [
       "hotel                            2\n",
       "arrival_date_month              12\n",
       "meal                             5\n",
       "country                        177\n",
       "market_segment                   8\n",
       "distribution_channel             5\n",
       "reserved_room_type              10\n",
       "assigned_room_type              12\n",
       "deposit_type                     3\n",
       "customer_type                    4\n",
       "reservation_status               3\n",
       "reservation_status_date        926\n",
       "arrival_date_year                3\n",
       "stays_in_weekend_nights         17\n",
       "adults                          14\n",
       "children                         5\n",
       "babies                           5\n",
       "is_repeated_guest                2\n",
       "previous_cancellations          15\n",
       "required_car_parking_spaces      5\n",
       "total_of_special_requests        6\n",
       "dtype: int64"
      ]
     },
     "execution_count": 40,
     "metadata": {},
     "output_type": "execute_result"
    }
   ],
   "source": [
    "#checking for level of each values\n",
    "char_1.nunique()"
   ]
  },
  {
   "cell_type": "markdown",
   "id": "53009785",
   "metadata": {
    "papermill": {
     "duration": 0.092809,
     "end_time": "2022-03-25T13:45:58.917671",
     "exception": false,
     "start_time": "2022-03-25T13:45:58.824862",
     "status": "completed"
    },
    "tags": []
   },
   "source": [
    "## Part 1 - Bi Variate Analysis"
   ]
  },
  {
   "cell_type": "code",
   "execution_count": 41,
   "id": "2c311a26",
   "metadata": {
    "execution": {
     "iopub.execute_input": "2022-03-25T13:45:59.143413Z",
     "iopub.status.busy": "2022-03-25T13:45:59.113125Z",
     "iopub.status.idle": "2022-03-25T13:48:36.313227Z",
     "shell.execute_reply": "2022-03-25T13:48:36.312498Z",
     "shell.execute_reply.started": "2022-03-25T12:26:34.703513Z"
    },
    "papermill": {
     "duration": 157.30225,
     "end_time": "2022-03-25T13:48:36.313413",
     "exception": false,
     "start_time": "2022-03-25T13:45:59.011163",
     "status": "completed"
    },
    "tags": []
   },
   "outputs": [
    {
     "data": {
      "image/png": "[encoded data removed]",
      "text/plain": [
       "<Figure size 432x288 with 1 Axes>"
      ]
     },
     "metadata": {
      "needs_background": "light"
     },
     "output_type": "display_data"
    },
    {
     "data": {
      "image/png": "[encoded data removed]",
      "text/plain": [
       "<Figure size 432x288 with 1 Axes>"
      ]
     },
     "metadata": {
      "needs_background": "light"
     },
     "output_type": "display_data"
    },
    {
     "data": {
      "image/png": "[encoded data removed]",
      "text/plain": [
       "<Figure size 432x288 with 1 Axes>"
      ]
     },
     "metadata": {
      "needs_background": "light"
     },
     "output_type": "display_data"
    },
    {
     "data": {
      "image/png": "[encoded data removed]",
      "text/plain": [
       "<Figure size 432x288 with 1 Axes>"
      ]
     },
     "metadata": {
      "needs_background": "light"
     },
     "output_type": "display_data"
    },
    {
     "data": {
      "image/png": "[encoded data removed]",
      "text/plain": [
       "<Figure size 432x288 with 1 Axes>"
      ]
     },
     "metadata": {
      "needs_background": "light"
     },
     "output_type": "display_data"
    },
    {
     "data": {
      "image/png": "[encoded data removed]",
      "text/plain": [
       "<Figure size 432x288 with 1 Axes>"
      ]
     },
     "metadata": {
      "needs_background": "light"
     },
     "output_type": "display_data"
    },
    {
     "data": {
      "image/png": "[encoded data removed]",
      "text/plain": [
       "<Figure size 432x288 with 1 Axes>"
      ]
     },
     "metadata": {
      "needs_background": "light"
     },
     "output_type": "display_data"
    },
    {
     "data": {
      "image/png": "[encoded data removed]",
      "text/plain": [
       "<Figure size 432x288 with 1 Axes>"
      ]
     },
     "metadata": {
      "needs_background": "light"
     },
     "output_type": "display_data"
    },
    {
     "data": {
      "image/png": "[encoded data removed]",
      "text/plain": [
       "<Figure size 432x288 with 1 Axes>"
      ]
     },
     "metadata": {
      "needs_background": "light"
     },
     "output_type": "display_data"
    },
    {
     "data": {
      "image/png": "[encoded data removed]",
      "text/plain": [
       "<Figure size 432x288 with 1 Axes>"
      ]
     },
     "metadata": {
      "needs_background": "light"
     },
     "output_type": "display_data"
    },
    {
     "data": {
      "image/png": "[encoded data removed]",
      "text/plain": [
       "<Figure size 432x288 with 1 Axes>"
      ]
     },
     "metadata": {
      "needs_background": "light"
     },
     "output_type": "display_data"
    },
    {
     "data": {
      "image/png": "[encoded data removed]",
      "text/plain": [
       "<Figure size 432x288 with 1 Axes>"
      ]
     },
     "metadata": {
      "needs_background": "light"
     },
     "output_type": "display_data"
    },
    {
     "data": {
      "image/png": "[encoded data removed]",
      "text/plain": [
       "<Figure size 432x288 with 1 Axes>"
      ]
     },
     "metadata": {
      "needs_background": "light"
     },
     "output_type": "display_data"
    },
    {
     "data": {
      "image/png": "[encoded data removed]",
      "text/plain": [
       "<Figure size 432x288 with 1 Axes>"
      ]
     },
     "metadata": {
      "needs_background": "light"
     },
     "output_type": "display_data"
    },
    {
     "data": {
      "image/png": "[encoded data removed]",
      "text/plain": [
       "<Figure size 432x288 with 1 Axes>"
      ]
     },
     "metadata": {
      "needs_background": "light"
     },
     "output_type": "display_data"
    },
    {
     "data": {
      "image/png": "[encoded data removed]",
      "text/plain": [
       "<Figure size 432x288 with 1 Axes>"
      ]
     },
     "metadata": {
      "needs_background": "light"
     },
     "output_type": "display_data"
    },
    {
     "data": {
      "image/png": "[encoded data removed]",
      "text/plain": [
       "<Figure size 432x288 with 1 Axes>"
      ]
     },
     "metadata": {
      "needs_background": "light"
     },
     "output_type": "display_data"
    },
    {
     "data": {
      "image/png": "[encoded data removed]",
      "text/plain": [
       "<Figure size 432x288 with 1 Axes>"
      ]
     },
     "metadata": {
      "needs_background": "light"
     },
     "output_type": "display_data"
    },
    {
     "data": {
      "image/png": "[encoded data removed]",
      "text/plain": [
       "<Figure size 432x288 with 1 Axes>"
      ]
     },
     "metadata": {
      "needs_background": "light"
     },
     "output_type": "display_data"
    },
    {
     "data": {
      "image/png": "[encoded data removed]",
      "text/plain": [
       "<Figure size 432x288 with 1 Axes>"
      ]
     },
     "metadata": {
      "needs_background": "light"
     },
     "output_type": "display_data"
    },
    {
     "data": {
      "image/png": "[encoded data removed]",
      "text/plain": [
       "<Figure size 432x288 with 1 Axes>"
      ]
     },
     "metadata": {
      "needs_background": "light"
     },
     "output_type": "display_data"
    }
   ],
   "source": [
    "X_char_merged = pd.concat([Y,char_1], axis=1, join='inner')\n",
    "\n",
    "for col in char.columns:\n",
    "    plt.figure()\n",
    "    sns.lineplot(x=col, y = X_char_merged['is_canceled'].mean(), data=X_char_merged, color='red')\n",
    "    sns.barplot(x=col, y='is_canceled', data = X_char_merged, estimator=mean)\n",
    "plt.show()"
   ]
  },
  {
   "cell_type": "code",
   "execution_count": 42,
   "id": "6bc127e0",
   "metadata": {
    "execution": {
     "iopub.execute_input": "2022-03-25T13:48:36.547527Z",
     "iopub.status.busy": "2022-03-25T13:48:36.546342Z",
     "iopub.status.idle": "2022-03-25T13:48:36.571649Z",
     "shell.execute_reply": "2022-03-25T13:48:36.571002Z",
     "shell.execute_reply.started": "2022-03-25T12:29:19.742386Z"
    },
    "papermill": {
     "duration": 0.145667,
     "end_time": "2022-03-25T13:48:36.571827",
     "exception": false,
     "start_time": "2022-03-25T13:48:36.426160",
     "status": "completed"
    },
    "tags": []
   },
   "outputs": [],
   "source": [
    "charlist = ['arrival_date_month', 'country', 'assigned_room_type', 'reservation_status',\n",
    "            'reservation_status_date', 'arrival_date_year']\n",
    "char_1 = char_1.drop(charlist, axis=1)"
   ]
  },
  {
   "cell_type": "code",
   "execution_count": 43,
   "id": "c3b5db62",
   "metadata": {
    "execution": {
     "iopub.execute_input": "2022-03-25T13:48:36.805453Z",
     "iopub.status.busy": "2022-03-25T13:48:36.804712Z",
     "iopub.status.idle": "2022-03-25T13:48:36.808940Z",
     "shell.execute_reply": "2022-03-25T13:48:36.809441Z",
     "shell.execute_reply.started": "2022-03-25T12:29:19.772519Z"
    },
    "papermill": {
     "duration": 0.124889,
     "end_time": "2022-03-25T13:48:36.809627",
     "exception": false,
     "start_time": "2022-03-25T13:48:36.684738",
     "status": "completed"
    },
    "tags": []
   },
   "outputs": [
    {
     "data": {
      "text/plain": [
       "hotel                          object\n",
       "meal                           object\n",
       "market_segment                 object\n",
       "distribution_channel           object\n",
       "reserved_room_type             object\n",
       "deposit_type                   object\n",
       "customer_type                  object\n",
       "stays_in_weekend_nights        object\n",
       "adults                         object\n",
       "children                       object\n",
       "babies                         object\n",
       "is_repeated_guest              object\n",
       "previous_cancellations         object\n",
       "required_car_parking_spaces    object\n",
       "total_of_special_requests      object\n",
       "dtype: object"
      ]
     },
     "execution_count": 43,
     "metadata": {},
     "output_type": "execute_result"
    }
   ],
   "source": [
    "char_1.dtypes"
   ]
  },
  {
   "cell_type": "code",
   "execution_count": 44,
   "id": "16fa5b96",
   "metadata": {
    "execution": {
     "iopub.execute_input": "2022-03-25T13:48:37.039126Z",
     "iopub.status.busy": "2022-03-25T13:48:37.038413Z",
     "iopub.status.idle": "2022-03-25T13:48:37.338150Z",
     "shell.execute_reply": "2022-03-25T13:48:37.338667Z",
     "shell.execute_reply.started": "2022-03-25T12:29:19.782838Z"
    },
    "papermill": {
     "duration": 0.417129,
     "end_time": "2022-03-25T13:48:37.338913",
     "exception": false,
     "start_time": "2022-03-25T13:48:36.921784",
     "status": "completed"
    },
    "tags": []
   },
   "outputs": [
    {
     "data": {
      "text/plain": [
       "(119390, 91)"
      ]
     },
     "execution_count": 44,
     "metadata": {},
     "output_type": "execute_result"
    }
   ],
   "source": [
    "# create dummy features with n-1 variables\n",
    "X_char_dum = pd.get_dummies(char_1, drop_first=True)\n",
    "X_char_dum.shape"
   ]
  },
  {
   "cell_type": "markdown",
   "id": "53bdf919",
   "metadata": {
    "papermill": {
     "duration": 0.112679,
     "end_time": "2022-03-25T13:48:37.564463",
     "exception": false,
     "start_time": "2022-03-25T13:48:37.451784",
     "status": "completed"
    },
    "tags": []
   },
   "source": [
    "## Part 2 - Select K Best"
   ]
  },
  {
   "cell_type": "code",
   "execution_count": 45,
   "id": "46ae8b1a",
   "metadata": {
    "execution": {
     "iopub.execute_input": "2022-03-25T13:48:37.796135Z",
     "iopub.status.busy": "2022-03-25T13:48:37.795380Z",
     "iopub.status.idle": "2022-03-25T13:48:38.082425Z",
     "shell.execute_reply": "2022-03-25T13:48:38.081777Z",
     "shell.execute_reply.started": "2022-03-25T12:29:20.072912Z"
    },
    "papermill": {
     "duration": 0.404838,
     "end_time": "2022-03-25T13:48:38.082583",
     "exception": false,
     "start_time": "2022-03-25T13:48:37.677745",
     "status": "completed"
    },
    "tags": []
   },
   "outputs": [],
   "source": [
    "selector = SelectKBest(chi2, k=30)\n",
    "selector.fit_transform(X_char_dum, Y)\n",
    "\n",
    "#get columns to create new df with them only\n",
    "cols = selector.get_support(indices=True)\n",
    "select_features_df_char = X_char_dum.iloc[:,cols]"
   ]
  },
  {
   "cell_type": "markdown",
   "id": "ae5e4b17",
   "metadata": {
    "papermill": {
     "duration": 0.110704,
     "end_time": "2022-03-25T13:48:38.304271",
     "exception": false,
     "start_time": "2022-03-25T13:48:38.193567",
     "status": "completed"
    },
    "tags": []
   },
   "source": [
    "## Creating the Master Feature Set for Model Development"
   ]
  },
  {
   "cell_type": "code",
   "execution_count": 46,
   "id": "811bf569",
   "metadata": {
    "execution": {
     "iopub.execute_input": "2022-03-25T13:48:38.536186Z",
     "iopub.status.busy": "2022-03-25T13:48:38.535529Z",
     "iopub.status.idle": "2022-03-25T13:48:38.540586Z",
     "shell.execute_reply": "2022-03-25T13:48:38.541180Z",
     "shell.execute_reply.started": "2022-03-25T12:42:19.099053Z"
    },
    "papermill": {
     "duration": 0.12252,
     "end_time": "2022-03-25T13:48:38.541354",
     "exception": false,
     "start_time": "2022-03-25T13:48:38.418834",
     "status": "completed"
    },
    "tags": []
   },
   "outputs": [],
   "source": [
    "X_all = pd.concat([select_features_df_char, select_features_df_num], axis=1, join='inner')"
   ]
  },
  {
   "cell_type": "markdown",
   "id": "dd9593d8",
   "metadata": {
    "papermill": {
     "duration": 0.111795,
     "end_time": "2022-03-25T13:48:38.763333",
     "exception": false,
     "start_time": "2022-03-25T13:48:38.651538",
     "status": "completed"
    },
    "tags": []
   },
   "source": [
    "## Train Test Split"
   ]
  },
  {
   "cell_type": "code",
   "execution_count": 47,
   "id": "e1f18111",
   "metadata": {
    "execution": {
     "iopub.execute_input": "2022-03-25T13:48:38.995125Z",
     "iopub.status.busy": "2022-03-25T13:48:38.994484Z",
     "iopub.status.idle": "2022-03-25T13:48:39.038927Z",
     "shell.execute_reply": "2022-03-25T13:48:39.038317Z",
     "shell.execute_reply.started": "2022-03-25T12:43:31.266776Z"
    },
    "papermill": {
     "duration": 0.165047,
     "end_time": "2022-03-25T13:48:39.039064",
     "exception": false,
     "start_time": "2022-03-25T13:48:38.874017",
     "status": "completed"
    },
    "tags": []
   },
   "outputs": [],
   "source": [
    "from sklearn.model_selection import train_test_split\n",
    "X_train, X_test, y_train, y_test = train_test_split(X_all, Y, test_size=0.3, random_state=20)"
   ]
  },
  {
   "cell_type": "code",
   "execution_count": 48,
   "id": "0c548a29",
   "metadata": {
    "execution": {
     "iopub.execute_input": "2022-03-25T13:48:39.268637Z",
     "iopub.status.busy": "2022-03-25T13:48:39.268015Z",
     "iopub.status.idle": "2022-03-25T13:48:39.278116Z",
     "shell.execute_reply": "2022-03-25T13:48:39.277374Z",
     "shell.execute_reply.started": "2022-03-25T12:43:45.654323Z"
    },
    "papermill": {
     "duration": 0.127418,
     "end_time": "2022-03-25T13:48:39.278283",
     "exception": false,
     "start_time": "2022-03-25T13:48:39.150865",
     "status": "completed"
    },
    "tags": []
   },
   "outputs": [
    {
     "name": "stdout",
     "output_type": "stream",
     "text": [
      "Shape of Training Data (83573, 34)\n",
      "Shape of Testing Data (35817, 34)\n",
      "Attrition Rate in Training Data is_canceled    0.370443\n",
      "dtype: float64\n",
      "Attrition Rate in Testing Data is_canceled    0.370355\n",
      "dtype: float64\n"
     ]
    }
   ],
   "source": [
    "print(\"Shape of Training Data\",X_train.shape)\n",
    "print(\"Shape of Testing Data\",X_test.shape)\n",
    "print(\"Attrition Rate in Training Data\",y_train.mean())\n",
    "print(\"Attrition Rate in Testing Data\",y_test.mean())"
   ]
  },
  {
   "cell_type": "markdown",
   "id": "76191201",
   "metadata": {
    "papermill": {
     "duration": 0.113816,
     "end_time": "2022-03-25T13:48:39.506419",
     "exception": false,
     "start_time": "2022-03-25T13:48:39.392603",
     "status": "completed"
    },
    "tags": []
   },
   "source": [
    "## Building Models"
   ]
  },
  {
   "cell_type": "code",
   "execution_count": 49,
   "id": "37845770",
   "metadata": {
    "execution": {
     "iopub.execute_input": "2022-03-25T13:48:39.737451Z",
     "iopub.status.busy": "2022-03-25T13:48:39.736739Z",
     "iopub.status.idle": "2022-03-25T13:48:39.769485Z",
     "shell.execute_reply": "2022-03-25T13:48:39.768887Z",
     "shell.execute_reply.started": "2022-03-25T12:45:42.199938Z"
    },
    "papermill": {
     "duration": 0.15057,
     "end_time": "2022-03-25T13:48:39.769645",
     "exception": false,
     "start_time": "2022-03-25T13:48:39.619075",
     "status": "completed"
    },
    "tags": []
   },
   "outputs": [],
   "source": [
    "# Decision Tree\n",
    "from sklearn.tree import DecisionTreeClassifier\n",
    "dtree = DecisionTreeClassifier(criterion = 'gini', random_state = 20)"
   ]
  },
  {
   "cell_type": "code",
   "execution_count": 50,
   "id": "28e181e6",
   "metadata": {
    "execution": {
     "iopub.execute_input": "2022-03-25T13:48:40.005189Z",
     "iopub.status.busy": "2022-03-25T13:48:40.004053Z",
     "iopub.status.idle": "2022-03-25T13:48:58.541240Z",
     "shell.execute_reply": "2022-03-25T13:48:58.540532Z",
     "shell.execute_reply.started": "2022-03-25T12:47:50.153284Z"
    },
    "papermill": {
     "duration": 18.659127,
     "end_time": "2022-03-25T13:48:58.541398",
     "exception": false,
     "start_time": "2022-03-25T13:48:39.882271",
     "status": "completed"
    },
    "tags": []
   },
   "outputs": [
    {
     "name": "stdout",
     "output_type": "stream",
     "text": [
      "Best Parameters using Grid Search: \n",
      " {'max_depth': 7, 'min_samples_split': 140}\n"
     ]
    }
   ],
   "source": [
    "from sklearn.model_selection import GridSearchCV\n",
    "param_dist = {'max_depth': [3,5,6,7], 'min_samples_split': [140,280,420,560,700]}\n",
    "tree_grid = GridSearchCV(dtree, param_grid = param_dist, cv = 10, n_jobs = -1 )\n",
    "tree_grid.fit(X_train, y_train)\n",
    "print('Best Parameters using Grid Search: \\n', tree_grid.best_params_)"
   ]
  },
  {
   "cell_type": "code",
   "execution_count": 51,
   "id": "09f9bec2",
   "metadata": {
    "execution": {
     "iopub.execute_input": "2022-03-25T13:48:58.771489Z",
     "iopub.status.busy": "2022-03-25T13:48:58.770560Z",
     "iopub.status.idle": "2022-03-25T13:48:58.979266Z",
     "shell.execute_reply": "2022-03-25T13:48:58.978673Z",
     "shell.execute_reply.started": "2022-03-25T12:50:37.491267Z"
    },
    "papermill": {
     "duration": 0.325433,
     "end_time": "2022-03-25T13:48:58.979409",
     "exception": false,
     "start_time": "2022-03-25T13:48:58.653976",
     "status": "completed"
    },
    "tags": []
   },
   "outputs": [
    {
     "data": {
      "text/plain": [
       "DecisionTreeClassifier(max_depth=7, min_samples_split=140, random_state=0)"
      ]
     },
     "execution_count": 51,
     "metadata": {},
     "output_type": "execute_result"
    }
   ],
   "source": [
    "dtree = DecisionTreeClassifier(criterion = 'gini', random_state = 0, max_depth = 7, min_samples_split=140)\n",
    "dtree.fit(X_train,y_train) "
   ]
  },
  {
   "cell_type": "code",
   "execution_count": 52,
   "id": "a8432a6a",
   "metadata": {
    "execution": {
     "iopub.execute_input": "2022-03-25T13:48:59.207991Z",
     "iopub.status.busy": "2022-03-25T13:48:59.207278Z",
     "iopub.status.idle": "2022-03-25T13:49:03.218387Z",
     "shell.execute_reply": "2022-03-25T13:49:03.218905Z",
     "shell.execute_reply.started": "2022-03-25T12:54:07.371529Z"
    },
    "papermill": {
     "duration": 4.12749,
     "end_time": "2022-03-25T13:49:03.219107",
     "exception": false,
     "start_time": "2022-03-25T13:48:59.091617",
     "status": "completed"
    },
    "tags": []
   },
   "outputs": [
    {
     "data": {
      "text/plain": [
       "RandomForestClassifier(max_depth=7, min_samples_split=140, random_state=0)"
      ]
     },
     "execution_count": 52,
     "metadata": {},
     "output_type": "execute_result"
    }
   ],
   "source": [
    "#building a random forest model\n",
    "from sklearn.ensemble import RandomForestClassifier\n",
    "rf = RandomForestClassifier(criterion = 'gini', random_state = 0, max_depth = 7, min_samples_split=140)\n",
    "rf.fit(X_train,y_train)\n"
   ]
  },
  {
   "cell_type": "code",
   "execution_count": 53,
   "id": "95bc1b32",
   "metadata": {
    "execution": {
     "iopub.execute_input": "2022-03-25T13:49:03.451092Z",
     "iopub.status.busy": "2022-03-25T13:49:03.450411Z",
     "iopub.status.idle": "2022-03-25T13:49:03.756648Z",
     "shell.execute_reply": "2022-03-25T13:49:03.756085Z",
     "shell.execute_reply.started": "2022-03-25T12:54:13.365830Z"
    },
    "papermill": {
     "duration": 0.423504,
     "end_time": "2022-03-25T13:49:03.756847",
     "exception": false,
     "start_time": "2022-03-25T13:49:03.333343",
     "status": "completed"
    },
    "tags": []
   },
   "outputs": [],
   "source": [
    "# Model Evaluation\n",
    "y_pred_tree = dtree.predict(X_test) \n",
    "y_pred_rf = rf.predict(X_test) "
   ]
  },
  {
   "cell_type": "code",
   "execution_count": 54,
   "id": "4ca244a7",
   "metadata": {
    "execution": {
     "iopub.execute_input": "2022-03-25T13:49:03.992832Z",
     "iopub.status.busy": "2022-03-25T13:49:03.991982Z",
     "iopub.status.idle": "2022-03-25T13:49:03.994892Z",
     "shell.execute_reply": "2022-03-25T13:49:03.995399Z",
     "shell.execute_reply.started": "2022-03-25T12:54:30.045779Z"
    },
    "papermill": {
     "duration": 0.121685,
     "end_time": "2022-03-25T13:49:03.995594",
     "exception": false,
     "start_time": "2022-03-25T13:49:03.873909",
     "status": "completed"
    },
    "tags": []
   },
   "outputs": [],
   "source": [
    "# metrics\n",
    "from sklearn import metrics\n",
    "from sklearn.metrics import confusion_matrix"
   ]
  },
  {
   "cell_type": "code",
   "execution_count": 55,
   "id": "3a47cfd6",
   "metadata": {
    "execution": {
     "iopub.execute_input": "2022-03-25T13:49:04.230032Z",
     "iopub.status.busy": "2022-03-25T13:49:04.229280Z",
     "iopub.status.idle": "2022-03-25T13:49:04.278923Z",
     "shell.execute_reply": "2022-03-25T13:49:04.279488Z",
     "shell.execute_reply.started": "2022-03-25T12:55:08.210025Z"
    },
    "papermill": {
     "duration": 0.169246,
     "end_time": "2022-03-25T13:49:04.279710",
     "exception": false,
     "start_time": "2022-03-25T13:49:04.110464",
     "status": "completed"
    },
    "tags": []
   },
   "outputs": [
    {
     "name": "stdout",
     "output_type": "stream",
     "text": [
      "Decision Tree Metrics \n",
      "Accuracy: 0.769076137029902\n",
      "Precision 0.9962241653418124\n",
      "Recall 0.3779117979645684\n",
      "f1_score 0.5479586817511067\n"
     ]
    }
   ],
   "source": [
    "print('Decision Tree Metrics ')\n",
    "print(\"Accuracy:\",metrics.accuracy_score(y_test, y_pred_tree))\n",
    "print(\"Precision\",metrics.precision_score(y_test,y_pred_tree))\n",
    "print(\"Recall\",metrics.recall_score(y_test,y_pred_tree))\n",
    "print(\"f1_score\",metrics.f1_score(y_test,y_pred_tree))"
   ]
  },
  {
   "cell_type": "code",
   "execution_count": 56,
   "id": "2514018f",
   "metadata": {
    "execution": {
     "iopub.execute_input": "2022-03-25T13:49:04.513615Z",
     "iopub.status.busy": "2022-03-25T13:49:04.512892Z",
     "iopub.status.idle": "2022-03-25T13:49:04.759850Z",
     "shell.execute_reply": "2022-03-25T13:49:04.760345Z",
     "shell.execute_reply.started": "2022-03-25T12:55:24.366082Z"
    },
    "papermill": {
     "duration": 0.366477,
     "end_time": "2022-03-25T13:49:04.760542",
     "exception": false,
     "start_time": "2022-03-25T13:49:04.394065",
     "status": "completed"
    },
    "tags": []
   },
   "outputs": [
    {
     "data": {
      "text/plain": [
       "<sklearn.metrics._plot.confusion_matrix.ConfusionMatrixDisplay at 0x7f0bab63a9d0>"
      ]
     },
     "execution_count": 56,
     "metadata": {},
     "output_type": "execute_result"
    },
    {
     "data": {
      "image/png": "[encoded data removed]",
      "text/plain": [
       "<Figure size 432x288 with 2 Axes>"
      ]
     },
     "metadata": {
      "needs_background": "light"
     },
     "output_type": "display_data"
    }
   ],
   "source": [
    "metrics.plot_confusion_matrix(dtree, X_test, y_test)"
   ]
  },
  {
   "cell_type": "code",
   "execution_count": 57,
   "id": "45ac3c27",
   "metadata": {
    "execution": {
     "iopub.execute_input": "2022-03-25T13:49:04.998020Z",
     "iopub.status.busy": "2022-03-25T13:49:04.997279Z",
     "iopub.status.idle": "2022-03-25T13:49:05.045604Z",
     "shell.execute_reply": "2022-03-25T13:49:05.046191Z",
     "shell.execute_reply.started": "2022-03-25T12:56:04.579495Z"
    },
    "papermill": {
     "duration": 0.169453,
     "end_time": "2022-03-25T13:49:05.046430",
     "exception": false,
     "start_time": "2022-03-25T13:49:04.876977",
     "status": "completed"
    },
    "tags": []
   },
   "outputs": [
    {
     "name": "stdout",
     "output_type": "stream",
     "text": [
      "Random Forest Metrics\n",
      "Accuracy: 0.7692994946533769\n",
      "Precision: 0.9968216130313866\n",
      "Recall: 0.37828872973991706\n",
      "f1_score: 0.5484452702333461\n"
     ]
    }
   ],
   "source": [
    "print('Random Forest Metrics')\n",
    "print('Accuracy:', metrics.accuracy_score(y_test, y_pred_rf))\n",
    "print('Precision:', metrics.precision_score(y_test, y_pred_rf))\n",
    "print('Recall:', metrics.recall_score(y_test, y_pred_rf))\n",
    "print('f1_score:', metrics.f1_score(y_test, y_pred_rf))"
   ]
  },
  {
   "cell_type": "code",
   "execution_count": 58,
   "id": "cf46fa05",
   "metadata": {
    "execution": {
     "iopub.execute_input": "2022-03-25T13:49:05.287669Z",
     "iopub.status.busy": "2022-03-25T13:49:05.286932Z",
     "iopub.status.idle": "2022-03-25T13:49:05.812609Z",
     "shell.execute_reply": "2022-03-25T13:49:05.813147Z",
     "shell.execute_reply.started": "2022-03-25T12:56:54.032820Z"
    },
    "papermill": {
     "duration": 0.649874,
     "end_time": "2022-03-25T13:49:05.813345",
     "exception": false,
     "start_time": "2022-03-25T13:49:05.163471",
     "status": "completed"
    },
    "tags": []
   },
   "outputs": [
    {
     "data": {
      "text/plain": [
       "<sklearn.metrics._plot.confusion_matrix.ConfusionMatrixDisplay at 0x7f0ba43705d0>"
      ]
     },
     "execution_count": 58,
     "metadata": {},
     "output_type": "execute_result"
    },
    {
     "data": {
      "image/png": "[encoded data removed]",
      "text/plain": [
       "<Figure size 432x288 with 2 Axes>"
      ]
     },
     "metadata": {
      "needs_background": "light"
     },
     "output_type": "display_data"
    }
   ],
   "source": [
    "metrics.plot_confusion_matrix(rf, X_test,y_test)"
   ]
  },
  {
   "cell_type": "markdown",
   "id": "831c3f1a",
   "metadata": {
    "papermill": {
     "duration": 0.119163,
     "end_time": "2022-03-25T13:49:06.050097",
     "exception": false,
     "start_time": "2022-03-25T13:49:05.930934",
     "status": "completed"
    },
    "tags": []
   },
   "source": [
    "## Probability Decile Analysis"
   ]
  },
  {
   "cell_type": "code",
   "execution_count": 59,
   "id": "23cca0e3",
   "metadata": {
    "execution": {
     "iopub.execute_input": "2022-03-25T13:49:06.292585Z",
     "iopub.status.busy": "2022-03-25T13:49:06.291889Z",
     "iopub.status.idle": "2022-03-25T13:49:07.250764Z",
     "shell.execute_reply": "2022-03-25T13:49:07.251319Z",
     "shell.execute_reply.started": "2022-03-25T13:03:01.705233Z"
    },
    "papermill": {
     "duration": 1.083164,
     "end_time": "2022-03-25T13:49:07.251529",
     "exception": false,
     "start_time": "2022-03-25T13:49:06.168365",
     "status": "completed"
    },
    "tags": []
   },
   "outputs": [
    {
     "data": {
      "text/html": [
       "<div>\n",
       "<style scoped>\n",
       "    .dataframe tbody tr th:only-of-type {\n",
       "        vertical-align: middle;\n",
       "    }\n",
       "\n",
       "    .dataframe tbody tr th {\n",
       "        vertical-align: top;\n",
       "    }\n",
       "\n",
       "    .dataframe thead th {\n",
       "        text-align: right;\n",
       "    }\n",
       "</style>\n",
       "<table border=\"1\" class=\"dataframe\">\n",
       "  <thead>\n",
       "    <tr style=\"text-align: right;\">\n",
       "      <th></th>\n",
       "      <th>P_Rank_rf</th>\n",
       "      <th>count</th>\n",
       "      <th>Actual_event_rate</th>\n",
       "      <th>N_events</th>\n",
       "      <th>cum_events</th>\n",
       "      <th>event_cap</th>\n",
       "      <th>cum_event_cap</th>\n",
       "      <th>N_non_events</th>\n",
       "      <th>cum_non_events</th>\n",
       "      <th>non_event_cap</th>\n",
       "      <th>cum_non_event_cap</th>\n",
       "      <th>KS</th>\n",
       "      <th>Decile</th>\n",
       "      <th>Lift_over_Avg</th>\n",
       "    </tr>\n",
       "  </thead>\n",
       "  <tbody>\n",
       "    <tr>\n",
       "      <th>0</th>\n",
       "      <td>10</td>\n",
       "      <td>11939</td>\n",
       "      <td>1.000000</td>\n",
       "      <td>11939.0</td>\n",
       "      <td>11939.0</td>\n",
       "      <td>0.269967</td>\n",
       "      <td>0.269967</td>\n",
       "      <td>0.0</td>\n",
       "      <td>0.0</td>\n",
       "      <td>0.000000</td>\n",
       "      <td>0.000000</td>\n",
       "      <td>0.2700</td>\n",
       "      <td>1</td>\n",
       "      <td>2.699665</td>\n",
       "    </tr>\n",
       "    <tr>\n",
       "      <th>1</th>\n",
       "      <td>9</td>\n",
       "      <td>11939</td>\n",
       "      <td>0.834827</td>\n",
       "      <td>9967.0</td>\n",
       "      <td>21906.0</td>\n",
       "      <td>0.225375</td>\n",
       "      <td>0.495342</td>\n",
       "      <td>1972.0</td>\n",
       "      <td>1972.0</td>\n",
       "      <td>0.026235</td>\n",
       "      <td>0.026235</td>\n",
       "      <td>0.4691</td>\n",
       "      <td>2</td>\n",
       "      <td>2.253754</td>\n",
       "    </tr>\n",
       "    <tr>\n",
       "      <th>2</th>\n",
       "      <td>8</td>\n",
       "      <td>11939</td>\n",
       "      <td>0.518050</td>\n",
       "      <td>6185.0</td>\n",
       "      <td>28091.0</td>\n",
       "      <td>0.139856</td>\n",
       "      <td>0.635198</td>\n",
       "      <td>5754.0</td>\n",
       "      <td>7726.0</td>\n",
       "      <td>0.076551</td>\n",
       "      <td>0.102786</td>\n",
       "      <td>0.5324</td>\n",
       "      <td>3</td>\n",
       "      <td>1.398562</td>\n",
       "    </tr>\n",
       "    <tr>\n",
       "      <th>3</th>\n",
       "      <td>7</td>\n",
       "      <td>11939</td>\n",
       "      <td>0.398610</td>\n",
       "      <td>4759.0</td>\n",
       "      <td>32850.0</td>\n",
       "      <td>0.107611</td>\n",
       "      <td>0.742809</td>\n",
       "      <td>7180.0</td>\n",
       "      <td>14906.0</td>\n",
       "      <td>0.095522</td>\n",
       "      <td>0.198308</td>\n",
       "      <td>0.5445</td>\n",
       "      <td>4</td>\n",
       "      <td>1.076113</td>\n",
       "    </tr>\n",
       "    <tr>\n",
       "      <th>4</th>\n",
       "      <td>6</td>\n",
       "      <td>11939</td>\n",
       "      <td>0.275400</td>\n",
       "      <td>3288.0</td>\n",
       "      <td>36138.0</td>\n",
       "      <td>0.074349</td>\n",
       "      <td>0.817158</td>\n",
       "      <td>8651.0</td>\n",
       "      <td>23557.0</td>\n",
       "      <td>0.115092</td>\n",
       "      <td>0.313400</td>\n",
       "      <td>0.5038</td>\n",
       "      <td>5</td>\n",
       "      <td>0.743488</td>\n",
       "    </tr>\n",
       "    <tr>\n",
       "      <th>5</th>\n",
       "      <td>5</td>\n",
       "      <td>11939</td>\n",
       "      <td>0.259067</td>\n",
       "      <td>3093.0</td>\n",
       "      <td>39231.0</td>\n",
       "      <td>0.069939</td>\n",
       "      <td>0.887098</td>\n",
       "      <td>8846.0</td>\n",
       "      <td>32403.0</td>\n",
       "      <td>0.117686</td>\n",
       "      <td>0.431086</td>\n",
       "      <td>0.4560</td>\n",
       "      <td>6</td>\n",
       "      <td>0.699394</td>\n",
       "    </tr>\n",
       "    <tr>\n",
       "      <th>6</th>\n",
       "      <td>4</td>\n",
       "      <td>11939</td>\n",
       "      <td>0.196750</td>\n",
       "      <td>2349.0</td>\n",
       "      <td>41580.0</td>\n",
       "      <td>0.053116</td>\n",
       "      <td>0.940213</td>\n",
       "      <td>9590.0</td>\n",
       "      <td>41993.0</td>\n",
       "      <td>0.127584</td>\n",
       "      <td>0.558670</td>\n",
       "      <td>0.3815</td>\n",
       "      <td>7</td>\n",
       "      <td>0.531160</td>\n",
       "    </tr>\n",
       "    <tr>\n",
       "      <th>7</th>\n",
       "      <td>3</td>\n",
       "      <td>11939</td>\n",
       "      <td>0.118435</td>\n",
       "      <td>1414.0</td>\n",
       "      <td>42994.0</td>\n",
       "      <td>0.031974</td>\n",
       "      <td>0.972187</td>\n",
       "      <td>10525.0</td>\n",
       "      <td>52518.0</td>\n",
       "      <td>0.140023</td>\n",
       "      <td>0.698694</td>\n",
       "      <td>0.2735</td>\n",
       "      <td>8</td>\n",
       "      <td>0.319736</td>\n",
       "    </tr>\n",
       "    <tr>\n",
       "      <th>8</th>\n",
       "      <td>2</td>\n",
       "      <td>11939</td>\n",
       "      <td>0.075718</td>\n",
       "      <td>904.0</td>\n",
       "      <td>43898.0</td>\n",
       "      <td>0.020441</td>\n",
       "      <td>0.992628</td>\n",
       "      <td>11035.0</td>\n",
       "      <td>63553.0</td>\n",
       "      <td>0.146808</td>\n",
       "      <td>0.845502</td>\n",
       "      <td>0.1471</td>\n",
       "      <td>9</td>\n",
       "      <td>0.204414</td>\n",
       "    </tr>\n",
       "    <tr>\n",
       "      <th>9</th>\n",
       "      <td>1</td>\n",
       "      <td>11939</td>\n",
       "      <td>0.027305</td>\n",
       "      <td>326.0</td>\n",
       "      <td>44224.0</td>\n",
       "      <td>0.007372</td>\n",
       "      <td>1.000000</td>\n",
       "      <td>11613.0</td>\n",
       "      <td>75166.0</td>\n",
       "      <td>0.154498</td>\n",
       "      <td>1.000000</td>\n",
       "      <td>0.0000</td>\n",
       "      <td>10</td>\n",
       "      <td>0.073716</td>\n",
       "    </tr>\n",
       "  </tbody>\n",
       "</table>\n",
       "</div>"
      ],
      "text/plain": [
       "   P_Rank_rf  count  Actual_event_rate  N_events  cum_events  event_cap  \\\n",
       "0         10  11939           1.000000   11939.0     11939.0   0.269967   \n",
       "1          9  11939           0.834827    9967.0     21906.0   0.225375   \n",
       "2          8  11939           0.518050    6185.0     28091.0   0.139856   \n",
       "3          7  11939           0.398610    4759.0     32850.0   0.107611   \n",
       "4          6  11939           0.275400    3288.0     36138.0   0.074349   \n",
       "5          5  11939           0.259067    3093.0     39231.0   0.069939   \n",
       "6          4  11939           0.196750    2349.0     41580.0   0.053116   \n",
       "7          3  11939           0.118435    1414.0     42994.0   0.031974   \n",
       "8          2  11939           0.075718     904.0     43898.0   0.020441   \n",
       "9          1  11939           0.027305     326.0     44224.0   0.007372   \n",
       "\n",
       "   cum_event_cap  N_non_events  cum_non_events  non_event_cap  \\\n",
       "0       0.269967           0.0             0.0       0.000000   \n",
       "1       0.495342        1972.0          1972.0       0.026235   \n",
       "2       0.635198        5754.0          7726.0       0.076551   \n",
       "3       0.742809        7180.0         14906.0       0.095522   \n",
       "4       0.817158        8651.0         23557.0       0.115092   \n",
       "5       0.887098        8846.0         32403.0       0.117686   \n",
       "6       0.940213        9590.0         41993.0       0.127584   \n",
       "7       0.972187       10525.0         52518.0       0.140023   \n",
       "8       0.992628       11035.0         63553.0       0.146808   \n",
       "9       1.000000       11613.0         75166.0       0.154498   \n",
       "\n",
       "   cum_non_event_cap      KS  Decile  Lift_over_Avg  \n",
       "0           0.000000  0.2700       1       2.699665  \n",
       "1           0.026235  0.4691       2       2.253754  \n",
       "2           0.102786  0.5324       3       1.398562  \n",
       "3           0.198308  0.5445       4       1.076113  \n",
       "4           0.313400  0.5038       5       0.743488  \n",
       "5           0.431086  0.4560       6       0.699394  \n",
       "6           0.558670  0.3815       7       0.531160  \n",
       "7           0.698694  0.2735       8       0.319736  \n",
       "8           0.845502  0.1471       9       0.204414  \n",
       "9           1.000000  0.0000      10       0.073716  "
      ]
     },
     "execution_count": 59,
     "metadata": {},
     "output_type": "execute_result"
    }
   ],
   "source": [
    "y_pred_prob = rf.predict_proba(X_all)[:,1] # here we choose col 1 cause it has prob of attrition data col 0 is not attrition\n",
    "df['y_pred_p'] = pd.DataFrame(y_pred_prob)\n",
    "df['P_Rank_rf'] = pd.qcut(df['y_pred_p'].rank(method = 'first').values,10,duplicates='drop').codes+1\n",
    "rank_df_actuals = df.groupby('P_Rank_rf')['is_canceled'].agg(['count', 'mean'])\n",
    "rank_df_actuals = pd.DataFrame(rank_df_actuals)\n",
    "rank_df_actuals.rename(columns={'mean': 'Actual_event_rate'}, inplace=True)\n",
    "\n",
    "sorted_rank_df=rank_df_actuals.sort_values(by='P_Rank_rf',ascending=False)\n",
    "sorted_rank_df['N_events']=rank_df_actuals['count']*rank_df_actuals['Actual_event_rate']\n",
    "sorted_rank_df['cum_events']=sorted_rank_df['N_events'].cumsum()\n",
    "sorted_rank_df['event_cap']=sorted_rank_df['N_events']/max(sorted_rank_df['N_events'].cumsum())\n",
    "sorted_rank_df['cum_event_cap']=sorted_rank_df['event_cap'].cumsum()\n",
    "\n",
    "sorted_rank_df['N_non_events']=sorted_rank_df['count']-sorted_rank_df['N_events']\n",
    "sorted_rank_df['cum_non_events']=sorted_rank_df['N_non_events'].cumsum()\n",
    "sorted_rank_df['non_event_cap']=sorted_rank_df['N_non_events']/max(sorted_rank_df['N_non_events'].cumsum())\n",
    "sorted_rank_df['cum_non_event_cap']=sorted_rank_df['non_event_cap'].cumsum()\n",
    "\n",
    "sorted_rank_df['KS']=round((sorted_rank_df['cum_event_cap']-sorted_rank_df['cum_non_event_cap']),4)\n",
    "\n",
    "sorted_reindexed=sorted_rank_df.reset_index()\n",
    "sorted_reindexed['Decile']=sorted_reindexed.index+1\n",
    "sorted_reindexed['Lift_over_Avg']=sorted_reindexed['Actual_event_rate']/(max(sorted_reindexed['N_events'].cumsum())/max(sorted_reindexed['count'].cumsum()))\n",
    "sorted_reindexed"
   ]
  },
  {
   "cell_type": "markdown",
   "id": "99afba19",
   "metadata": {
    "papermill": {
     "duration": 0.118924,
     "end_time": "2022-03-25T13:49:07.489512",
     "exception": false,
     "start_time": "2022-03-25T13:49:07.370588",
     "status": "completed"
    },
    "tags": []
   },
   "source": [
    "* Gain Chart\n",
    "Gain at a given decile level is the ratio of cumulative number of targets (events) up to that decile to the total number of targets (events) in the entire data set\n",
    "% of targets (events) covered at a given decile level. For example, 80% of targets covered in top 20% of data based on model. In the case of propensity to buy model, we can say we can identify and target 80% of customers who are likely to buy the product by just sending email to 20% of total customers.\n",
    "\n",
    "* Lift Chart\n",
    "It measures how much better one can expect to do with the predictive model comparing without a model. It is the ratio of gain % to the random expectation % at a given decile level. The random expectation at the xth decile is x%.\n",
    "\n",
    "Ex: The Cum Lift of 4.03 for top two deciles, means that when selecting 20% of the records based on the model, one can expect 4.03 times the total number of targets (events) found by randomly selecting 20%-of-file without a model."
   ]
  },
  {
   "cell_type": "code",
   "execution_count": 60,
   "id": "ec027f5b",
   "metadata": {
    "execution": {
     "iopub.execute_input": "2022-03-25T13:49:07.738774Z",
     "iopub.status.busy": "2022-03-25T13:49:07.738132Z",
     "iopub.status.idle": "2022-03-25T13:49:08.265960Z",
     "shell.execute_reply": "2022-03-25T13:49:08.265312Z",
     "shell.execute_reply.started": "2022-03-25T13:08:40.614201Z"
    },
    "papermill": {
     "duration": 0.656007,
     "end_time": "2022-03-25T13:49:08.266107",
     "exception": false,
     "start_time": "2022-03-25T13:49:07.610100",
     "status": "completed"
    },
    "tags": []
   },
   "outputs": [
    {
     "data": {
      "image/png": "[encoded data removed]",
      "text/plain": [
       "<Figure size 1080x360 with 3 Axes>"
      ]
     },
     "metadata": {
      "needs_background": "light"
     },
     "output_type": "display_data"
    }
   ],
   "source": [
    "fig, axes = plt.subplots(1, 3, sharex = True, figsize = (15,5))\n",
    "fig.suptitle('Effectiveness of Deciles based on Model Probabilities')\n",
    "axes[0].set_title('Rank Ordering of Actual Event Rate')\n",
    "axes[1].set_title('Lift over Mean Event Rate')\n",
    "axes[2].set_title('Gains Chart')\n",
    "sns.lineplot(ax=axes[0], x = 'Decile', y = 'Actual_event_rate', data = sorted_reindexed, color = 'red')\n",
    "sns.barplot(ax=axes[1], x = 'Decile', y = 'Lift_over_Avg', data = sorted_reindexed, color = 'green')\n",
    "sns.lineplot(ax=axes[2], x = 'Decile', y = 'cum_event_cap', data = sorted_reindexed, color = 'blue')\n",
    "sns.lineplot(ax=axes[2], x = 'Decile', y = 'cum_non_event_cap', data = sorted_reindexed, color = 'black')\n",
    "plt.show()"
   ]
  },
  {
   "cell_type": "markdown",
   "id": "4daf464d",
   "metadata": {
    "papermill": {
     "duration": 0.119011,
     "end_time": "2022-03-25T13:49:08.504393",
     "exception": false,
     "start_time": "2022-03-25T13:49:08.385382",
     "status": "completed"
    },
    "tags": []
   },
   "source": [
    "## Strategy using Machine Learning\n"
   ]
  },
  {
   "cell_type": "code",
   "execution_count": 61,
   "id": "69b693b1",
   "metadata": {
    "execution": {
     "iopub.execute_input": "2022-03-25T13:49:08.790225Z",
     "iopub.status.busy": "2022-03-25T13:49:08.789243Z",
     "iopub.status.idle": "2022-03-25T13:49:08.839105Z",
     "shell.execute_reply": "2022-03-25T13:49:08.839653Z",
     "shell.execute_reply.started": "2022-03-25T13:21:04.648064Z"
    },
    "papermill": {
     "duration": 0.177822,
     "end_time": "2022-03-25T13:49:08.839871",
     "exception": false,
     "start_time": "2022-03-25T13:49:08.662049",
     "status": "completed"
    },
    "tags": []
   },
   "outputs": [
    {
     "data": {
      "text/plain": [
       "Bottom7    83573\n",
       "Top3       35817\n",
       "Name: Predicted_cancel_Rank, dtype: int64"
      ]
     },
     "execution_count": 61,
     "metadata": {},
     "output_type": "execute_result"
    }
   ],
   "source": [
    "df['Predicted_cancel_Rank'] = np.where(df['P_Rank_rf']<8, 'Bottom7', 'Top3')\n",
    "df['Predicted_cancel_Rank'].value_counts()"
   ]
  },
  {
   "cell_type": "code",
   "execution_count": 62,
   "id": "daed392a",
   "metadata": {
    "execution": {
     "iopub.execute_input": "2022-03-25T13:49:09.086215Z",
     "iopub.status.busy": "2022-03-25T13:49:09.085520Z",
     "iopub.status.idle": "2022-03-25T13:49:09.172911Z",
     "shell.execute_reply": "2022-03-25T13:49:09.173439Z",
     "shell.execute_reply.started": "2022-03-25T13:22:43.362707Z"
    },
    "papermill": {
     "duration": 0.21373,
     "end_time": "2022-03-25T13:49:09.173660",
     "exception": false,
     "start_time": "2022-03-25T13:49:08.959930",
     "status": "completed"
    },
    "tags": []
   },
   "outputs": [],
   "source": [
    "df_top3 = df.loc[df['Predicted_cancel_Rank']=='Top3', :]"
   ]
  },
  {
   "cell_type": "code",
   "execution_count": 63,
   "id": "776e11e1",
   "metadata": {
    "execution": {
     "iopub.execute_input": "2022-03-25T13:49:09.423487Z",
     "iopub.status.busy": "2022-03-25T13:49:09.422724Z",
     "iopub.status.idle": "2022-03-25T13:49:09.426014Z",
     "shell.execute_reply": "2022-03-25T13:49:09.426525Z",
     "shell.execute_reply.started": "2022-03-25T13:22:53.856301Z"
    },
    "papermill": {
     "duration": 0.129088,
     "end_time": "2022-03-25T13:49:09.426734",
     "exception": false,
     "start_time": "2022-03-25T13:49:09.297646",
     "status": "completed"
    },
    "tags": []
   },
   "outputs": [
    {
     "data": {
      "text/plain": [
       "(35817, 35)"
      ]
     },
     "execution_count": 63,
     "metadata": {},
     "output_type": "execute_result"
    }
   ],
   "source": [
    "df_top3.shape"
   ]
  },
  {
   "cell_type": "markdown",
   "id": "d9a02095",
   "metadata": {
    "papermill": {
     "duration": 0.120248,
     "end_time": "2022-03-25T13:49:09.667250",
     "exception": false,
     "start_time": "2022-03-25T13:49:09.547002",
     "status": "completed"
    },
    "tags": []
   },
   "source": [
    "\n",
    "#### As we can see we the top 3 Decile(count=35817), accounts for nearly 70% of cancellation.\n",
    "#### So those users should be our top priority in building any strategy regarding services and offers"
   ]
  }
 ],
 "metadata": {
  "kernelspec": {
   "display_name": "Python 3",
   "language": "python",
   "name": "python3"
  },
  "language_info": {
   "codemirror_mode": {
    "name": "ipython",
    "version": 3
   },
   "file_extension": ".py",
   "mimetype": "text/x-python",
   "name": "python",
   "nbconvert_exporter": "python",
   "pygments_lexer": "ipython3",
   "version": "3.7.12"
  },
  "papermill": {
   "default_parameters": {},
   "duration": 244.534681,
   "end_time": "2022-03-25T13:49:11.406170",
   "environment_variables": {},
   "exception": null,
   "input_path": "__notebook__.ipynb",
   "output_path": "__notebook__.ipynb",
   "parameters": {},
   "start_time": "2022-03-25T13:45:06.871489",
   "version": "2.3.3"
  }
 },
 "nbformat": 4,
 "nbformat_minor": 5
}
